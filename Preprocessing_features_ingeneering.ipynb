{
 "cells": [
  {
   "cell_type": "code",
   "execution_count": 1,
   "id": "e826f0b5-77d8-4538-b640-c7b56ef2f31d",
   "metadata": {},
   "outputs": [],
   "source": [
    "import pandas as pd\n",
    "from sklearn.impute import KNNImputer \n",
    "from sklearn.preprocessing import MinMaxScaler\n",
    "\n",
    "\n",
    "import numpy as np\n",
    "\n",
    "from imblearn.under_sampling import RandomUnderSampler\n",
    "\n",
    "from sklearn import preprocessing, model_selection, pipeline\n",
    "\n",
    "from sklearn.impute import SimpleImputer\n",
    "\n",
    "from sklearn.preprocessing import LabelEncoder"
   ]
  },
  {
   "cell_type": "code",
   "execution_count": 9,
   "id": "daf9ed17-a36a-444d-ad9f-3830ba537912",
   "metadata": {},
   "outputs": [],
   "source": [
    "# df = df[['TARGET', 'CODE_GENDER', 'CNT_CHILDREN', 'FLAG_OWN_CAR','FLAG_OWN_REALTY',\n",
    "#          'AMT_INCOME_TOTAL', 'AMT_CREDIT', 'DAYS_BIRTH', 'AMT_ANNUITY']]"
   ]
  },
  {
   "cell_type": "code",
   "execution_count": 4,
   "id": "f4f35121-0528-46e4-98a6-0620be9597ed",
   "metadata": {},
   "outputs": [],
   "source": [
    "#df1 = pd.read_csv(\"application_train.csv\")\n",
    "# df1.columns[df1.isna().mean() < .5]"
   ]
  },
  {
   "cell_type": "code",
   "execution_count": 2,
   "id": "b4cfe36b-17bf-4887-8e69-e0c19ae443cf",
   "metadata": {},
   "outputs": [],
   "source": [
    "data = pd.read_csv(\"application_train.csv\")"
   ]
  },
  {
   "cell_type": "code",
   "execution_count": 3,
   "id": "f473cfce-b548-46a9-b874-2d3ed4a14f82",
   "metadata": {},
   "outputs": [
    {
     "data": {
      "text/html": [
       "<div>\n",
       "<style scoped>\n",
       "    .dataframe tbody tr th:only-of-type {\n",
       "        vertical-align: middle;\n",
       "    }\n",
       "\n",
       "    .dataframe tbody tr th {\n",
       "        vertical-align: top;\n",
       "    }\n",
       "\n",
       "    .dataframe thead th {\n",
       "        text-align: right;\n",
       "    }\n",
       "</style>\n",
       "<table border=\"1\" class=\"dataframe\">\n",
       "  <thead>\n",
       "    <tr style=\"text-align: right;\">\n",
       "      <th></th>\n",
       "      <th>SK_ID_CURR</th>\n",
       "      <th>TARGET</th>\n",
       "      <th>NAME_CONTRACT_TYPE</th>\n",
       "      <th>CODE_GENDER</th>\n",
       "      <th>FLAG_OWN_CAR</th>\n",
       "      <th>FLAG_OWN_REALTY</th>\n",
       "      <th>CNT_CHILDREN</th>\n",
       "      <th>AMT_INCOME_TOTAL</th>\n",
       "      <th>AMT_CREDIT</th>\n",
       "      <th>AMT_ANNUITY</th>\n",
       "      <th>...</th>\n",
       "      <th>FLAG_DOCUMENT_18</th>\n",
       "      <th>FLAG_DOCUMENT_19</th>\n",
       "      <th>FLAG_DOCUMENT_20</th>\n",
       "      <th>FLAG_DOCUMENT_21</th>\n",
       "      <th>AMT_REQ_CREDIT_BUREAU_HOUR</th>\n",
       "      <th>AMT_REQ_CREDIT_BUREAU_DAY</th>\n",
       "      <th>AMT_REQ_CREDIT_BUREAU_WEEK</th>\n",
       "      <th>AMT_REQ_CREDIT_BUREAU_MON</th>\n",
       "      <th>AMT_REQ_CREDIT_BUREAU_QRT</th>\n",
       "      <th>AMT_REQ_CREDIT_BUREAU_YEAR</th>\n",
       "    </tr>\n",
       "  </thead>\n",
       "  <tbody>\n",
       "    <tr>\n",
       "      <th>0</th>\n",
       "      <td>100002</td>\n",
       "      <td>1</td>\n",
       "      <td>Cash loans</td>\n",
       "      <td>M</td>\n",
       "      <td>N</td>\n",
       "      <td>Y</td>\n",
       "      <td>0</td>\n",
       "      <td>202500.0</td>\n",
       "      <td>406597.5</td>\n",
       "      <td>24700.5</td>\n",
       "      <td>...</td>\n",
       "      <td>0</td>\n",
       "      <td>0</td>\n",
       "      <td>0</td>\n",
       "      <td>0</td>\n",
       "      <td>0.0</td>\n",
       "      <td>0.0</td>\n",
       "      <td>0.0</td>\n",
       "      <td>0.0</td>\n",
       "      <td>0.0</td>\n",
       "      <td>1.0</td>\n",
       "    </tr>\n",
       "    <tr>\n",
       "      <th>1</th>\n",
       "      <td>100003</td>\n",
       "      <td>0</td>\n",
       "      <td>Cash loans</td>\n",
       "      <td>F</td>\n",
       "      <td>N</td>\n",
       "      <td>N</td>\n",
       "      <td>0</td>\n",
       "      <td>270000.0</td>\n",
       "      <td>1293502.5</td>\n",
       "      <td>35698.5</td>\n",
       "      <td>...</td>\n",
       "      <td>0</td>\n",
       "      <td>0</td>\n",
       "      <td>0</td>\n",
       "      <td>0</td>\n",
       "      <td>0.0</td>\n",
       "      <td>0.0</td>\n",
       "      <td>0.0</td>\n",
       "      <td>0.0</td>\n",
       "      <td>0.0</td>\n",
       "      <td>0.0</td>\n",
       "    </tr>\n",
       "    <tr>\n",
       "      <th>2</th>\n",
       "      <td>100004</td>\n",
       "      <td>0</td>\n",
       "      <td>Revolving loans</td>\n",
       "      <td>M</td>\n",
       "      <td>Y</td>\n",
       "      <td>Y</td>\n",
       "      <td>0</td>\n",
       "      <td>67500.0</td>\n",
       "      <td>135000.0</td>\n",
       "      <td>6750.0</td>\n",
       "      <td>...</td>\n",
       "      <td>0</td>\n",
       "      <td>0</td>\n",
       "      <td>0</td>\n",
       "      <td>0</td>\n",
       "      <td>0.0</td>\n",
       "      <td>0.0</td>\n",
       "      <td>0.0</td>\n",
       "      <td>0.0</td>\n",
       "      <td>0.0</td>\n",
       "      <td>0.0</td>\n",
       "    </tr>\n",
       "    <tr>\n",
       "      <th>3</th>\n",
       "      <td>100006</td>\n",
       "      <td>0</td>\n",
       "      <td>Cash loans</td>\n",
       "      <td>F</td>\n",
       "      <td>N</td>\n",
       "      <td>Y</td>\n",
       "      <td>0</td>\n",
       "      <td>135000.0</td>\n",
       "      <td>312682.5</td>\n",
       "      <td>29686.5</td>\n",
       "      <td>...</td>\n",
       "      <td>0</td>\n",
       "      <td>0</td>\n",
       "      <td>0</td>\n",
       "      <td>0</td>\n",
       "      <td>NaN</td>\n",
       "      <td>NaN</td>\n",
       "      <td>NaN</td>\n",
       "      <td>NaN</td>\n",
       "      <td>NaN</td>\n",
       "      <td>NaN</td>\n",
       "    </tr>\n",
       "    <tr>\n",
       "      <th>4</th>\n",
       "      <td>100007</td>\n",
       "      <td>0</td>\n",
       "      <td>Cash loans</td>\n",
       "      <td>M</td>\n",
       "      <td>N</td>\n",
       "      <td>Y</td>\n",
       "      <td>0</td>\n",
       "      <td>121500.0</td>\n",
       "      <td>513000.0</td>\n",
       "      <td>21865.5</td>\n",
       "      <td>...</td>\n",
       "      <td>0</td>\n",
       "      <td>0</td>\n",
       "      <td>0</td>\n",
       "      <td>0</td>\n",
       "      <td>0.0</td>\n",
       "      <td>0.0</td>\n",
       "      <td>0.0</td>\n",
       "      <td>0.0</td>\n",
       "      <td>0.0</td>\n",
       "      <td>0.0</td>\n",
       "    </tr>\n",
       "  </tbody>\n",
       "</table>\n",
       "<p>5 rows × 122 columns</p>\n",
       "</div>"
      ],
      "text/plain": [
       "   SK_ID_CURR  TARGET NAME_CONTRACT_TYPE CODE_GENDER FLAG_OWN_CAR  \\\n",
       "0      100002       1         Cash loans           M            N   \n",
       "1      100003       0         Cash loans           F            N   \n",
       "2      100004       0    Revolving loans           M            Y   \n",
       "3      100006       0         Cash loans           F            N   \n",
       "4      100007       0         Cash loans           M            N   \n",
       "\n",
       "  FLAG_OWN_REALTY  CNT_CHILDREN  AMT_INCOME_TOTAL  AMT_CREDIT  AMT_ANNUITY  \\\n",
       "0               Y             0          202500.0    406597.5      24700.5   \n",
       "1               N             0          270000.0   1293502.5      35698.5   \n",
       "2               Y             0           67500.0    135000.0       6750.0   \n",
       "3               Y             0          135000.0    312682.5      29686.5   \n",
       "4               Y             0          121500.0    513000.0      21865.5   \n",
       "\n",
       "   ...  FLAG_DOCUMENT_18 FLAG_DOCUMENT_19 FLAG_DOCUMENT_20 FLAG_DOCUMENT_21  \\\n",
       "0  ...                 0                0                0                0   \n",
       "1  ...                 0                0                0                0   \n",
       "2  ...                 0                0                0                0   \n",
       "3  ...                 0                0                0                0   \n",
       "4  ...                 0                0                0                0   \n",
       "\n",
       "  AMT_REQ_CREDIT_BUREAU_HOUR AMT_REQ_CREDIT_BUREAU_DAY  \\\n",
       "0                        0.0                       0.0   \n",
       "1                        0.0                       0.0   \n",
       "2                        0.0                       0.0   \n",
       "3                        NaN                       NaN   \n",
       "4                        0.0                       0.0   \n",
       "\n",
       "   AMT_REQ_CREDIT_BUREAU_WEEK  AMT_REQ_CREDIT_BUREAU_MON  \\\n",
       "0                         0.0                        0.0   \n",
       "1                         0.0                        0.0   \n",
       "2                         0.0                        0.0   \n",
       "3                         NaN                        NaN   \n",
       "4                         0.0                        0.0   \n",
       "\n",
       "   AMT_REQ_CREDIT_BUREAU_QRT  AMT_REQ_CREDIT_BUREAU_YEAR  \n",
       "0                        0.0                         1.0  \n",
       "1                        0.0                         0.0  \n",
       "2                        0.0                         0.0  \n",
       "3                        NaN                         NaN  \n",
       "4                        0.0                         0.0  \n",
       "\n",
       "[5 rows x 122 columns]"
      ]
     },
     "execution_count": 3,
     "metadata": {},
     "output_type": "execute_result"
    }
   ],
   "source": [
    "data.head()"
   ]
  },
  {
   "cell_type": "code",
   "execution_count": 4,
   "id": "07354439-3144-496f-80fc-532507e11642",
   "metadata": {},
   "outputs": [],
   "source": [
    "data = data.drop(columns=[\"SK_ID_CURR\"])"
   ]
  },
  {
   "cell_type": "code",
   "execution_count": 6,
   "id": "9a5ad820-e340-49ea-b974-0f9738f1879e",
   "metadata": {
    "tags": []
   },
   "outputs": [
    {
     "name": "stdout",
     "output_type": "stream",
     "text": [
      "<class 'pandas.core.frame.DataFrame'>\n",
      "RangeIndex: 307511 entries, 0 to 307510\n",
      "Columns: 121 entries, TARGET to AMT_REQ_CREDIT_BUREAU_YEAR\n",
      "dtypes: float64(65), int64(40), object(16)\n",
      "memory usage: 283.9+ MB\n"
     ]
    }
   ],
   "source": [
    "data.info()"
   ]
  },
  {
   "cell_type": "code",
   "execution_count": 12,
   "id": "705c7bb4-9610-4824-b0cf-fe64b99e3f24",
   "metadata": {},
   "outputs": [
    {
     "data": {
      "text/plain": [
       "(40,)"
      ]
     },
     "execution_count": 12,
     "metadata": {},
     "output_type": "execute_result"
    }
   ],
   "source": [
    "data.columns[data.dtypes.values =='int64'].shape"
   ]
  },
  {
   "cell_type": "code",
   "execution_count": 14,
   "id": "99e4e448-90a5-4e18-8ec1-b0797616fc45",
   "metadata": {},
   "outputs": [
    {
     "data": {
      "text/plain": [
       "(65,)"
      ]
     },
     "execution_count": 14,
     "metadata": {},
     "output_type": "execute_result"
    }
   ],
   "source": [
    "data.columns[data.dtypes.values =='float64'].shape"
   ]
  },
  {
   "cell_type": "code",
   "execution_count": 16,
   "id": "41fc796a-1bab-4292-91c5-683fcb8635a8",
   "metadata": {},
   "outputs": [
    {
     "data": {
      "text/plain": [
       "Index(['AMT_ANNUITY', 'AMT_CREDIT', 'AMT_GOODS_PRICE', 'AMT_INCOME_TOTAL',\n",
       "       'AMT_REQ_CREDIT_BUREAU_DAY', 'AMT_REQ_CREDIT_BUREAU_HOUR',\n",
       "       'AMT_REQ_CREDIT_BUREAU_MON', 'AMT_REQ_CREDIT_BUREAU_QRT',\n",
       "       'AMT_REQ_CREDIT_BUREAU_WEEK', 'AMT_REQ_CREDIT_BUREAU_YEAR',\n",
       "       ...\n",
       "       'REG_REGION_NOT_LIVE_REGION', 'REG_REGION_NOT_WORK_REGION', 'TARGET',\n",
       "       'TOTALAREA_MODE', 'YEARS_BEGINEXPLUATATION_AVG',\n",
       "       'YEARS_BEGINEXPLUATATION_MEDI', 'YEARS_BEGINEXPLUATATION_MODE',\n",
       "       'YEARS_BUILD_AVG', 'YEARS_BUILD_MEDI', 'YEARS_BUILD_MODE'],\n",
       "      dtype='object', length=105)"
      ]
     },
     "execution_count": 16,
     "metadata": {},
     "output_type": "execute_result"
    }
   ],
   "source": [
    "data.columns[data.dtypes.values =='int64'].union(data.columns[data.dtypes.values =='float64'])"
   ]
  },
  {
   "cell_type": "markdown",
   "id": "fe27bbd1-f7ca-4f92-8135-b85fb1197575",
   "metadata": {
    "tags": []
   },
   "source": [
    "# PREPROCESSING"
   ]
  },
  {
   "cell_type": "markdown",
   "id": "c1ce0f55-b732-4fba-b394-4c0e26a048fe",
   "metadata": {},
   "source": [
    "## TRAITEMENT DES VALEURS NAN"
   ]
  },
  {
   "cell_type": "code",
   "execution_count": 33,
   "id": "949e0632-111c-4513-8dec-560fae498f60",
   "metadata": {},
   "outputs": [
    {
     "data": {
      "text/plain": [
       "TARGET                        0.000000\n",
       "NAME_CONTRACT_TYPE            0.000000\n",
       "CODE_GENDER                   0.000000\n",
       "FLAG_OWN_CAR                  0.000000\n",
       "FLAG_OWN_REALTY               0.000000\n",
       "                                ...   \n",
       "AMT_REQ_CREDIT_BUREAU_DAY     0.135016\n",
       "AMT_REQ_CREDIT_BUREAU_WEEK    0.135016\n",
       "AMT_REQ_CREDIT_BUREAU_MON     0.135016\n",
       "AMT_REQ_CREDIT_BUREAU_QRT     0.135016\n",
       "AMT_REQ_CREDIT_BUREAU_YEAR    0.135016\n",
       "Length: 80, dtype: float64"
      ]
     },
     "execution_count": 33,
     "metadata": {},
     "output_type": "execute_result"
    }
   ],
   "source": [
    "data.isna().mean()"
   ]
  },
  {
   "cell_type": "code",
   "execution_count": 34,
   "id": "2828c252-8fa7-4fcf-9461-6246cced90f4",
   "metadata": {},
   "outputs": [
    {
     "data": {
      "text/plain": [
       "(0.0, 0.4976082156410665)"
      ]
     },
     "execution_count": 34,
     "metadata": {},
     "output_type": "execute_result"
    }
   ],
   "source": [
    "data.isna().mean().min(), data.isna().mean().max()"
   ]
  },
  {
   "cell_type": "code",
   "execution_count": 17,
   "id": "ad7e5ffe-24d2-4997-b747-a9e41a97d4cf",
   "metadata": {},
   "outputs": [],
   "source": [
    "data = data[data.columns[data.isna().mean() < .5]]"
   ]
  },
  {
   "cell_type": "code",
   "execution_count": 18,
   "id": "f7df1d7e-179c-4773-ba76-cc5c0c18f9c5",
   "metadata": {},
   "outputs": [
    {
     "data": {
      "text/plain": [
       "(307511, 80)"
      ]
     },
     "execution_count": 18,
     "metadata": {},
     "output_type": "execute_result"
    }
   ],
   "source": [
    "data.shape"
   ]
  },
  {
   "cell_type": "code",
   "execution_count": 11,
   "id": "678955b5-841e-4485-8b5d-9bb039e39cf0",
   "metadata": {},
   "outputs": [
    {
     "data": {
      "text/plain": [
       "array([dtype('int64'), dtype('O'), dtype('float64')], dtype=object)"
      ]
     },
     "execution_count": 11,
     "metadata": {},
     "output_type": "execute_result"
    }
   ],
   "source": [
    "data.dtypes.unique()\n",
    "# df[df.columns[df.isna().mean() < 0]]"
   ]
  },
  {
   "cell_type": "markdown",
   "id": "2a25da3b-5921-47fc-a944-987e06c4d978",
   "metadata": {},
   "source": [
    "### IMPUTATION DES DONNEES NUMERIQUES PAR LA MEDIANE, ET DES DONNEES CATEGORIELLE PAR LE MODE"
   ]
  },
  {
   "cell_type": "code",
   "execution_count": 23,
   "id": "21cfd0a8-24f4-4e1e-8044-4c52819a7b1b",
   "metadata": {
    "collapsed": true,
    "jupyter": {
     "outputs_hidden": true
    },
    "tags": []
   },
   "outputs": [
    {
     "data": {
      "text/plain": [
       "Index(['TARGET', 'NAME_CONTRACT_TYPE', 'CODE_GENDER', 'FLAG_OWN_CAR',\n",
       "       'FLAG_OWN_REALTY', 'CNT_CHILDREN', 'AMT_INCOME_TOTAL', 'AMT_CREDIT',\n",
       "       'AMT_ANNUITY', 'AMT_GOODS_PRICE', 'NAME_TYPE_SUITE', 'NAME_INCOME_TYPE',\n",
       "       'NAME_EDUCATION_TYPE', 'NAME_FAMILY_STATUS', 'NAME_HOUSING_TYPE',\n",
       "       'REGION_POPULATION_RELATIVE', 'DAYS_BIRTH', 'DAYS_EMPLOYED',\n",
       "       'DAYS_REGISTRATION', 'DAYS_ID_PUBLISH', 'FLAG_MOBIL', 'FLAG_EMP_PHONE',\n",
       "       'FLAG_WORK_PHONE', 'FLAG_CONT_MOBILE', 'FLAG_PHONE', 'FLAG_EMAIL',\n",
       "       'OCCUPATION_TYPE', 'CNT_FAM_MEMBERS', 'REGION_RATING_CLIENT',\n",
       "       'REGION_RATING_CLIENT_W_CITY', 'WEEKDAY_APPR_PROCESS_START',\n",
       "       'HOUR_APPR_PROCESS_START', 'REG_REGION_NOT_LIVE_REGION',\n",
       "       'REG_REGION_NOT_WORK_REGION', 'LIVE_REGION_NOT_WORK_REGION',\n",
       "       'REG_CITY_NOT_LIVE_CITY', 'REG_CITY_NOT_WORK_CITY',\n",
       "       'LIVE_CITY_NOT_WORK_CITY', 'ORGANIZATION_TYPE', 'EXT_SOURCE_2',\n",
       "       'EXT_SOURCE_3', 'YEARS_BEGINEXPLUATATION_AVG', 'FLOORSMAX_AVG',\n",
       "       'YEARS_BEGINEXPLUATATION_MODE', 'FLOORSMAX_MODE',\n",
       "       'YEARS_BEGINEXPLUATATION_MEDI', 'FLOORSMAX_MEDI', 'TOTALAREA_MODE',\n",
       "       'EMERGENCYSTATE_MODE', 'OBS_30_CNT_SOCIAL_CIRCLE',\n",
       "       'DEF_30_CNT_SOCIAL_CIRCLE', 'OBS_60_CNT_SOCIAL_CIRCLE',\n",
       "       'DEF_60_CNT_SOCIAL_CIRCLE', 'DAYS_LAST_PHONE_CHANGE', 'FLAG_DOCUMENT_2',\n",
       "       'FLAG_DOCUMENT_3', 'FLAG_DOCUMENT_4', 'FLAG_DOCUMENT_5',\n",
       "       'FLAG_DOCUMENT_6', 'FLAG_DOCUMENT_7', 'FLAG_DOCUMENT_8',\n",
       "       'FLAG_DOCUMENT_9', 'FLAG_DOCUMENT_10', 'FLAG_DOCUMENT_11',\n",
       "       'FLAG_DOCUMENT_12', 'FLAG_DOCUMENT_13', 'FLAG_DOCUMENT_14',\n",
       "       'FLAG_DOCUMENT_15', 'FLAG_DOCUMENT_16', 'FLAG_DOCUMENT_17',\n",
       "       'FLAG_DOCUMENT_18', 'FLAG_DOCUMENT_19', 'FLAG_DOCUMENT_20',\n",
       "       'FLAG_DOCUMENT_21', 'AMT_REQ_CREDIT_BUREAU_HOUR',\n",
       "       'AMT_REQ_CREDIT_BUREAU_DAY', 'AMT_REQ_CREDIT_BUREAU_WEEK',\n",
       "       'AMT_REQ_CREDIT_BUREAU_MON', 'AMT_REQ_CREDIT_BUREAU_QRT',\n",
       "       'AMT_REQ_CREDIT_BUREAU_YEAR'],\n",
       "      dtype='object')"
      ]
     },
     "execution_count": 23,
     "metadata": {},
     "output_type": "execute_result"
    }
   ],
   "source": [
    "data.columns"
   ]
  },
  {
   "cell_type": "code",
   "execution_count": 24,
   "id": "a25d4f1c-af6f-4915-8d14-9fba62a0f5bb",
   "metadata": {},
   "outputs": [
    {
     "data": {
      "text/plain": [
       "(307511, 80)"
      ]
     },
     "execution_count": 24,
     "metadata": {},
     "output_type": "execute_result"
    }
   ],
   "source": [
    "data.shape"
   ]
  },
  {
   "cell_type": "code",
   "execution_count": 19,
   "id": "a3d6b8ea-7c90-412f-9a1a-57dfe60f01ef",
   "metadata": {},
   "outputs": [],
   "source": [
    "df = data.copy()"
   ]
  },
  {
   "cell_type": "code",
   "execution_count": 34,
   "id": "02fcfca1-8694-49b5-84cb-680f45c577e8",
   "metadata": {},
   "outputs": [],
   "source": [
    "# data.columns[data.dtypes.values =='object']"
   ]
  },
  {
   "cell_type": "code",
   "execution_count": 24,
   "id": "762f284f-6d12-43b7-9ca8-f92990319256",
   "metadata": {},
   "outputs": [],
   "source": [
    "#data[data.columns[data.dtypes.values =='int64'].union(data.columns[data.dtypes.values =='float64'])]"
   ]
  },
  {
   "cell_type": "code",
   "execution_count": 23,
   "id": "3bad6748-8077-4cd6-a8d0-aea5d75fb465",
   "metadata": {},
   "outputs": [],
   "source": [
    "df = pd.concat([pd.DataFrame(SimpleImputer(strategy='median').fit_transform(data[data.columns[data.dtypes.values =='int64'].union(data.columns[data.dtypes.values =='float64'])]),\n",
    "                             columns=data.columns[data.dtypes.values =='int64'].union(data.columns[data.dtypes.values =='float64'])),\n",
    "          pd.DataFrame(SimpleImputer(strategy='most_frequent').fit_transform(data[data.columns[data.dtypes.values =='object']]),\n",
    "                       columns=data.columns[data.dtypes.values =='object'])],\n",
    "               axis=1)"
   ]
  },
  {
   "cell_type": "code",
   "execution_count": 26,
   "id": "84f0c5b8-7c40-4125-911a-80c8ffca1d8d",
   "metadata": {},
   "outputs": [
    {
     "data": {
      "text/plain": [
       "(307511, 80)"
      ]
     },
     "execution_count": 26,
     "metadata": {},
     "output_type": "execute_result"
    }
   ],
   "source": [
    "df.shape"
   ]
  },
  {
   "cell_type": "code",
   "execution_count": 27,
   "id": "21969d0f-6dfb-46f3-b4a2-199d1aee02e1",
   "metadata": {},
   "outputs": [
    {
     "data": {
      "text/html": [
       "<div>\n",
       "<style scoped>\n",
       "    .dataframe tbody tr th:only-of-type {\n",
       "        vertical-align: middle;\n",
       "    }\n",
       "\n",
       "    .dataframe tbody tr th {\n",
       "        vertical-align: top;\n",
       "    }\n",
       "\n",
       "    .dataframe thead th {\n",
       "        text-align: right;\n",
       "    }\n",
       "</style>\n",
       "<table border=\"1\" class=\"dataframe\">\n",
       "  <thead>\n",
       "    <tr style=\"text-align: right;\">\n",
       "      <th></th>\n",
       "      <th>AMT_ANNUITY</th>\n",
       "      <th>AMT_CREDIT</th>\n",
       "      <th>AMT_GOODS_PRICE</th>\n",
       "      <th>AMT_INCOME_TOTAL</th>\n",
       "      <th>AMT_REQ_CREDIT_BUREAU_DAY</th>\n",
       "      <th>AMT_REQ_CREDIT_BUREAU_HOUR</th>\n",
       "      <th>AMT_REQ_CREDIT_BUREAU_MON</th>\n",
       "      <th>AMT_REQ_CREDIT_BUREAU_QRT</th>\n",
       "      <th>AMT_REQ_CREDIT_BUREAU_WEEK</th>\n",
       "      <th>AMT_REQ_CREDIT_BUREAU_YEAR</th>\n",
       "      <th>...</th>\n",
       "      <th>FLAG_OWN_REALTY</th>\n",
       "      <th>NAME_TYPE_SUITE</th>\n",
       "      <th>NAME_INCOME_TYPE</th>\n",
       "      <th>NAME_EDUCATION_TYPE</th>\n",
       "      <th>NAME_FAMILY_STATUS</th>\n",
       "      <th>NAME_HOUSING_TYPE</th>\n",
       "      <th>OCCUPATION_TYPE</th>\n",
       "      <th>WEEKDAY_APPR_PROCESS_START</th>\n",
       "      <th>ORGANIZATION_TYPE</th>\n",
       "      <th>EMERGENCYSTATE_MODE</th>\n",
       "    </tr>\n",
       "  </thead>\n",
       "  <tbody>\n",
       "    <tr>\n",
       "      <th>0</th>\n",
       "      <td>24700.5</td>\n",
       "      <td>406597.5</td>\n",
       "      <td>351000.0</td>\n",
       "      <td>202500.0</td>\n",
       "      <td>0.0</td>\n",
       "      <td>0.0</td>\n",
       "      <td>0.0</td>\n",
       "      <td>0.0</td>\n",
       "      <td>0.0</td>\n",
       "      <td>1.0</td>\n",
       "      <td>...</td>\n",
       "      <td>Y</td>\n",
       "      <td>Unaccompanied</td>\n",
       "      <td>Working</td>\n",
       "      <td>Secondary / secondary special</td>\n",
       "      <td>Single / not married</td>\n",
       "      <td>House / apartment</td>\n",
       "      <td>Laborers</td>\n",
       "      <td>WEDNESDAY</td>\n",
       "      <td>Business Entity Type 3</td>\n",
       "      <td>No</td>\n",
       "    </tr>\n",
       "    <tr>\n",
       "      <th>1</th>\n",
       "      <td>35698.5</td>\n",
       "      <td>1293502.5</td>\n",
       "      <td>1129500.0</td>\n",
       "      <td>270000.0</td>\n",
       "      <td>0.0</td>\n",
       "      <td>0.0</td>\n",
       "      <td>0.0</td>\n",
       "      <td>0.0</td>\n",
       "      <td>0.0</td>\n",
       "      <td>0.0</td>\n",
       "      <td>...</td>\n",
       "      <td>N</td>\n",
       "      <td>Family</td>\n",
       "      <td>State servant</td>\n",
       "      <td>Higher education</td>\n",
       "      <td>Married</td>\n",
       "      <td>House / apartment</td>\n",
       "      <td>Core staff</td>\n",
       "      <td>MONDAY</td>\n",
       "      <td>School</td>\n",
       "      <td>No</td>\n",
       "    </tr>\n",
       "    <tr>\n",
       "      <th>2</th>\n",
       "      <td>6750.0</td>\n",
       "      <td>135000.0</td>\n",
       "      <td>135000.0</td>\n",
       "      <td>67500.0</td>\n",
       "      <td>0.0</td>\n",
       "      <td>0.0</td>\n",
       "      <td>0.0</td>\n",
       "      <td>0.0</td>\n",
       "      <td>0.0</td>\n",
       "      <td>0.0</td>\n",
       "      <td>...</td>\n",
       "      <td>Y</td>\n",
       "      <td>Unaccompanied</td>\n",
       "      <td>Working</td>\n",
       "      <td>Secondary / secondary special</td>\n",
       "      <td>Single / not married</td>\n",
       "      <td>House / apartment</td>\n",
       "      <td>Laborers</td>\n",
       "      <td>MONDAY</td>\n",
       "      <td>Government</td>\n",
       "      <td>No</td>\n",
       "    </tr>\n",
       "    <tr>\n",
       "      <th>3</th>\n",
       "      <td>29686.5</td>\n",
       "      <td>312682.5</td>\n",
       "      <td>297000.0</td>\n",
       "      <td>135000.0</td>\n",
       "      <td>0.0</td>\n",
       "      <td>0.0</td>\n",
       "      <td>0.0</td>\n",
       "      <td>0.0</td>\n",
       "      <td>0.0</td>\n",
       "      <td>1.0</td>\n",
       "      <td>...</td>\n",
       "      <td>Y</td>\n",
       "      <td>Unaccompanied</td>\n",
       "      <td>Working</td>\n",
       "      <td>Secondary / secondary special</td>\n",
       "      <td>Civil marriage</td>\n",
       "      <td>House / apartment</td>\n",
       "      <td>Laborers</td>\n",
       "      <td>WEDNESDAY</td>\n",
       "      <td>Business Entity Type 3</td>\n",
       "      <td>No</td>\n",
       "    </tr>\n",
       "    <tr>\n",
       "      <th>4</th>\n",
       "      <td>21865.5</td>\n",
       "      <td>513000.0</td>\n",
       "      <td>513000.0</td>\n",
       "      <td>121500.0</td>\n",
       "      <td>0.0</td>\n",
       "      <td>0.0</td>\n",
       "      <td>0.0</td>\n",
       "      <td>0.0</td>\n",
       "      <td>0.0</td>\n",
       "      <td>0.0</td>\n",
       "      <td>...</td>\n",
       "      <td>Y</td>\n",
       "      <td>Unaccompanied</td>\n",
       "      <td>Working</td>\n",
       "      <td>Secondary / secondary special</td>\n",
       "      <td>Single / not married</td>\n",
       "      <td>House / apartment</td>\n",
       "      <td>Core staff</td>\n",
       "      <td>THURSDAY</td>\n",
       "      <td>Religion</td>\n",
       "      <td>No</td>\n",
       "    </tr>\n",
       "  </tbody>\n",
       "</table>\n",
       "<p>5 rows × 80 columns</p>\n",
       "</div>"
      ],
      "text/plain": [
       "   AMT_ANNUITY  AMT_CREDIT  AMT_GOODS_PRICE  AMT_INCOME_TOTAL  \\\n",
       "0      24700.5    406597.5         351000.0          202500.0   \n",
       "1      35698.5   1293502.5        1129500.0          270000.0   \n",
       "2       6750.0    135000.0         135000.0           67500.0   \n",
       "3      29686.5    312682.5         297000.0          135000.0   \n",
       "4      21865.5    513000.0         513000.0          121500.0   \n",
       "\n",
       "   AMT_REQ_CREDIT_BUREAU_DAY  AMT_REQ_CREDIT_BUREAU_HOUR  \\\n",
       "0                        0.0                         0.0   \n",
       "1                        0.0                         0.0   \n",
       "2                        0.0                         0.0   \n",
       "3                        0.0                         0.0   \n",
       "4                        0.0                         0.0   \n",
       "\n",
       "   AMT_REQ_CREDIT_BUREAU_MON  AMT_REQ_CREDIT_BUREAU_QRT  \\\n",
       "0                        0.0                        0.0   \n",
       "1                        0.0                        0.0   \n",
       "2                        0.0                        0.0   \n",
       "3                        0.0                        0.0   \n",
       "4                        0.0                        0.0   \n",
       "\n",
       "   AMT_REQ_CREDIT_BUREAU_WEEK  AMT_REQ_CREDIT_BUREAU_YEAR  ...  \\\n",
       "0                         0.0                         1.0  ...   \n",
       "1                         0.0                         0.0  ...   \n",
       "2                         0.0                         0.0  ...   \n",
       "3                         0.0                         1.0  ...   \n",
       "4                         0.0                         0.0  ...   \n",
       "\n",
       "   FLAG_OWN_REALTY  NAME_TYPE_SUITE  NAME_INCOME_TYPE  \\\n",
       "0                Y    Unaccompanied           Working   \n",
       "1                N           Family     State servant   \n",
       "2                Y    Unaccompanied           Working   \n",
       "3                Y    Unaccompanied           Working   \n",
       "4                Y    Unaccompanied           Working   \n",
       "\n",
       "             NAME_EDUCATION_TYPE    NAME_FAMILY_STATUS  NAME_HOUSING_TYPE  \\\n",
       "0  Secondary / secondary special  Single / not married  House / apartment   \n",
       "1               Higher education               Married  House / apartment   \n",
       "2  Secondary / secondary special  Single / not married  House / apartment   \n",
       "3  Secondary / secondary special        Civil marriage  House / apartment   \n",
       "4  Secondary / secondary special  Single / not married  House / apartment   \n",
       "\n",
       "   OCCUPATION_TYPE  WEEKDAY_APPR_PROCESS_START       ORGANIZATION_TYPE  \\\n",
       "0         Laborers                   WEDNESDAY  Business Entity Type 3   \n",
       "1       Core staff                      MONDAY                  School   \n",
       "2         Laborers                      MONDAY              Government   \n",
       "3         Laborers                   WEDNESDAY  Business Entity Type 3   \n",
       "4       Core staff                    THURSDAY                Religion   \n",
       "\n",
       "   EMERGENCYSTATE_MODE  \n",
       "0                   No  \n",
       "1                   No  \n",
       "2                   No  \n",
       "3                   No  \n",
       "4                   No  \n",
       "\n",
       "[5 rows x 80 columns]"
      ]
     },
     "execution_count": 27,
     "metadata": {},
     "output_type": "execute_result"
    }
   ],
   "source": [
    "df.head()"
   ]
  },
  {
   "cell_type": "markdown",
   "id": "b08c1375-ff55-4f26-9ebe-314da7a07517",
   "metadata": {},
   "source": [
    "## TRAITEMENT DES VARIABLES CATEGORIELLES"
   ]
  },
  {
   "cell_type": "code",
   "execution_count": 28,
   "id": "c441fcf0-4cd2-44ca-b9f9-5418583a1cb8",
   "metadata": {
    "tags": []
   },
   "outputs": [
    {
     "name": "stdout",
     "output_type": "stream",
     "text": [
      "###################  NAME_CONTRACT_TYPE ##################\n",
      " Cash loans         278232\n",
      "Revolving loans     29279\n",
      "Name: NAME_CONTRACT_TYPE, dtype: int64 \n",
      "\n",
      "###################  CODE_GENDER ##################\n",
      " F      202448\n",
      "M      105059\n",
      "XNA         4\n",
      "Name: CODE_GENDER, dtype: int64 \n",
      "\n",
      "###################  FLAG_OWN_CAR ##################\n",
      " N    202924\n",
      "Y    104587\n",
      "Name: FLAG_OWN_CAR, dtype: int64 \n",
      "\n",
      "###################  FLAG_OWN_REALTY ##################\n",
      " Y    213312\n",
      "N     94199\n",
      "Name: FLAG_OWN_REALTY, dtype: int64 \n",
      "\n",
      "###################  NAME_TYPE_SUITE ##################\n",
      " Unaccompanied      249818\n",
      "Family              40149\n",
      "Spouse, partner     11370\n",
      "Children             3267\n",
      "Other_B              1770\n",
      "Other_A               866\n",
      "Group of people       271\n",
      "Name: NAME_TYPE_SUITE, dtype: int64 \n",
      "\n",
      "###################  NAME_INCOME_TYPE ##################\n",
      " Working                 158774\n",
      "Commercial associate     71617\n",
      "Pensioner                55362\n",
      "State servant            21703\n",
      "Unemployed                  22\n",
      "Student                     18\n",
      "Businessman                 10\n",
      "Maternity leave              5\n",
      "Name: NAME_INCOME_TYPE, dtype: int64 \n",
      "\n",
      "###################  NAME_EDUCATION_TYPE ##################\n",
      " Secondary / secondary special    218391\n",
      "Higher education                  74863\n",
      "Incomplete higher                 10277\n",
      "Lower secondary                    3816\n",
      "Academic degree                     164\n",
      "Name: NAME_EDUCATION_TYPE, dtype: int64 \n",
      "\n",
      "###################  NAME_FAMILY_STATUS ##################\n",
      " Married                 196432\n",
      "Single / not married     45444\n",
      "Civil marriage           29775\n",
      "Separated                19770\n",
      "Widow                    16088\n",
      "Unknown                      2\n",
      "Name: NAME_FAMILY_STATUS, dtype: int64 \n",
      "\n",
      "###################  NAME_HOUSING_TYPE ##################\n",
      " House / apartment      272868\n",
      "With parents            14840\n",
      "Municipal apartment     11183\n",
      "Rented apartment         4881\n",
      "Office apartment         2617\n",
      "Co-op apartment          1122\n",
      "Name: NAME_HOUSING_TYPE, dtype: int64 \n",
      "\n",
      "###################  OCCUPATION_TYPE ##################\n",
      " Laborers                 151577\n",
      "Sales staff               32102\n",
      "Core staff                27570\n",
      "Managers                  21371\n",
      "Drivers                   18603\n",
      "High skill tech staff     11380\n",
      "Accountants                9813\n",
      "Medicine staff             8537\n",
      "Security staff             6721\n",
      "Cooking staff              5946\n",
      "Cleaning staff             4653\n",
      "Private service staff      2652\n",
      "Low-skill Laborers         2093\n",
      "Waiters/barmen staff       1348\n",
      "Secretaries                1305\n",
      "Realty agents               751\n",
      "HR staff                    563\n",
      "IT staff                    526\n",
      "Name: OCCUPATION_TYPE, dtype: int64 \n",
      "\n",
      "###################  WEEKDAY_APPR_PROCESS_START ##################\n",
      " TUESDAY      53901\n",
      "WEDNESDAY    51934\n",
      "MONDAY       50714\n",
      "THURSDAY     50591\n",
      "FRIDAY       50338\n",
      "SATURDAY     33852\n",
      "SUNDAY       16181\n",
      "Name: WEEKDAY_APPR_PROCESS_START, dtype: int64 \n",
      "\n",
      "###################  ORGANIZATION_TYPE ##################\n",
      " Business Entity Type 3    67992\n",
      "XNA                       55374\n",
      "Self-employed             38412\n",
      "Other                     16683\n",
      "Medicine                  11193\n",
      "Business Entity Type 2    10553\n",
      "Government                10404\n",
      "School                     8893\n",
      "Trade: type 7              7831\n",
      "Kindergarten               6880\n",
      "Construction               6721\n",
      "Business Entity Type 1     5984\n",
      "Transport: type 4          5398\n",
      "Trade: type 3              3492\n",
      "Industry: type 9           3368\n",
      "Industry: type 3           3278\n",
      "Security                   3247\n",
      "Housing                    2958\n",
      "Industry: type 11          2704\n",
      "Military                   2634\n",
      "Bank                       2507\n",
      "Agriculture                2454\n",
      "Police                     2341\n",
      "Transport: type 2          2204\n",
      "Postal                     2157\n",
      "Security Ministries        1974\n",
      "Trade: type 2              1900\n",
      "Restaurant                 1811\n",
      "Services                   1575\n",
      "University                 1327\n",
      "Industry: type 7           1307\n",
      "Transport: type 3          1187\n",
      "Industry: type 1           1039\n",
      "Hotel                       966\n",
      "Electricity                 950\n",
      "Industry: type 4            877\n",
      "Trade: type 6               631\n",
      "Industry: type 5            599\n",
      "Insurance                   597\n",
      "Telecom                     577\n",
      "Emergency                   560\n",
      "Industry: type 2            458\n",
      "Advertising                 429\n",
      "Realtor                     396\n",
      "Culture                     379\n",
      "Industry: type 12           369\n",
      "Trade: type 1               348\n",
      "Mobile                      317\n",
      "Legal Services              305\n",
      "Cleaning                    260\n",
      "Transport: type 1           201\n",
      "Industry: type 6            112\n",
      "Industry: type 10           109\n",
      "Religion                     85\n",
      "Industry: type 13            67\n",
      "Trade: type 4                64\n",
      "Trade: type 5                49\n",
      "Industry: type 8             24\n",
      "Name: ORGANIZATION_TYPE, dtype: int64 \n",
      "\n",
      "###################  EMERGENCYSTATE_MODE ##################\n",
      " No     305183\n",
      "Yes      2328\n",
      "Name: EMERGENCYSTATE_MODE, dtype: int64 \n",
      "\n"
     ]
    }
   ],
   "source": [
    "for col in df.select_dtypes('object'):\n",
    "    print(\"################### \", col, \"##################\\n\", df[col].value_counts(), \"\\n\")"
   ]
  },
  {
   "cell_type": "code",
   "execution_count": null,
   "id": "e990844d-8529-4df3-97ad-c8bd4f7a9988",
   "metadata": {},
   "outputs": [],
   "source": []
  },
  {
   "cell_type": "code",
   "execution_count": 29,
   "id": "60922417-e346-440f-b271-c2805404c004",
   "metadata": {},
   "outputs": [],
   "source": [
    "# supprimons les lignes contenant la valeur \"Unknown\" pour la colonne \"NAME_FAMILY_STATUS\"\n",
    "df.drop(df.loc[df[\"NAME_FAMILY_STATUS\"] == \"Unknown\"].index, inplace=True)"
   ]
  },
  {
   "cell_type": "code",
   "execution_count": 30,
   "id": "c22979a8-77f3-4733-8b0b-8d5f2eeec8ab",
   "metadata": {},
   "outputs": [],
   "source": [
    "df[\"NAME_INCOME_TYPE\"] = df[\"NAME_INCOME_TYPE\"].replace([\"Unemployed\", \"Student\", \"Businessman\", \"Maternity leave\"], \"Autres\")"
   ]
  },
  {
   "cell_type": "code",
   "execution_count": 31,
   "id": "f90d9349-f31f-4f7a-a523-98c271131778",
   "metadata": {},
   "outputs": [],
   "source": [
    "df[\"NAME_EDUCATION_TYPE\"] = df[\"NAME_EDUCATION_TYPE\"].replace([\"Secondary / secondary special\", \"Lower secondary\"], \"secondary\")\\\n",
    "                                                        .replace([\"Higher education\", \"Incomplete higher\"], \"higher\")"
   ]
  },
  {
   "cell_type": "code",
   "execution_count": 32,
   "id": "c22caadc-1f0d-43e8-a572-cf9388983ca0",
   "metadata": {},
   "outputs": [],
   "source": [
    "df = df.drop(columns=[\"ORGANIZATION_TYPE\", \"WEEKDAY_APPR_PROCESS_START\", \"OCCUPATION_TYPE\", \"NAME_TYPE_SUITE\"])"
   ]
  },
  {
   "cell_type": "markdown",
   "id": "2a76e088-167b-415d-a14a-90d29a1ede20",
   "metadata": {},
   "source": [
    "### ENCODAGES DES VARIABLES CATEGORIELLES"
   ]
  },
  {
   "cell_type": "code",
   "execution_count": 21,
   "id": "9149c65a-011b-42c2-8646-76cab50750c1",
   "metadata": {
    "collapsed": true,
    "jupyter": {
     "outputs_hidden": true
    },
    "tags": []
   },
   "outputs": [
    {
     "name": "stdout",
     "output_type": "stream",
     "text": [
      "<class 'pandas.core.frame.DataFrame'>\n",
      "Int64Index: 307509 entries, 0 to 307510\n",
      "Data columns (total 36 columns):\n",
      " #   Column                        Non-Null Count   Dtype  \n",
      "---  ------                        --------------   -----  \n",
      " 0   AMT_INCOME_TOTAL              307509 non-null  float64\n",
      " 1   AMT_CREDIT                    307509 non-null  float64\n",
      " 2   AMT_ANNUITY                   307509 non-null  float64\n",
      " 3   AMT_GOODS_PRICE               307509 non-null  float64\n",
      " 4   REGION_POPULATION_RELATIVE    307509 non-null  float64\n",
      " 5   DAYS_REGISTRATION             307509 non-null  float64\n",
      " 6   CNT_FAM_MEMBERS               307509 non-null  float64\n",
      " 7   EXT_SOURCE_2                  307509 non-null  float64\n",
      " 8   EXT_SOURCE_3                  307509 non-null  float64\n",
      " 9   YEARS_BEGINEXPLUATATION_AVG   307509 non-null  float64\n",
      " 10  FLOORSMAX_AVG                 307509 non-null  float64\n",
      " 11  YEARS_BEGINEXPLUATATION_MODE  307509 non-null  float64\n",
      " 12  FLOORSMAX_MODE                307509 non-null  float64\n",
      " 13  YEARS_BEGINEXPLUATATION_MEDI  307509 non-null  float64\n",
      " 14  FLOORSMAX_MEDI                307509 non-null  float64\n",
      " 15  TOTALAREA_MODE                307509 non-null  float64\n",
      " 16  OBS_30_CNT_SOCIAL_CIRCLE      307509 non-null  float64\n",
      " 17  DEF_30_CNT_SOCIAL_CIRCLE      307509 non-null  float64\n",
      " 18  OBS_60_CNT_SOCIAL_CIRCLE      307509 non-null  float64\n",
      " 19  DEF_60_CNT_SOCIAL_CIRCLE      307509 non-null  float64\n",
      " 20  DAYS_LAST_PHONE_CHANGE        307509 non-null  float64\n",
      " 21  AMT_REQ_CREDIT_BUREAU_HOUR    307509 non-null  float64\n",
      " 22  AMT_REQ_CREDIT_BUREAU_DAY     307509 non-null  float64\n",
      " 23  AMT_REQ_CREDIT_BUREAU_WEEK    307509 non-null  float64\n",
      " 24  AMT_REQ_CREDIT_BUREAU_MON     307509 non-null  float64\n",
      " 25  AMT_REQ_CREDIT_BUREAU_QRT     307509 non-null  float64\n",
      " 26  AMT_REQ_CREDIT_BUREAU_YEAR    307509 non-null  float64\n",
      " 27  NAME_CONTRACT_TYPE            307509 non-null  int64  \n",
      " 28  CODE_GENDER                   307509 non-null  int64  \n",
      " 29  FLAG_OWN_CAR                  307509 non-null  int64  \n",
      " 30  FLAG_OWN_REALTY               307509 non-null  int64  \n",
      " 31  NAME_INCOME_TYPE              307509 non-null  int64  \n",
      " 32  NAME_EDUCATION_TYPE           307509 non-null  int64  \n",
      " 33  NAME_FAMILY_STATUS            307509 non-null  int64  \n",
      " 34  NAME_HOUSING_TYPE             307509 non-null  int64  \n",
      " 35  EMERGENCYSTATE_MODE           307509 non-null  int64  \n",
      "dtypes: float64(27), int64(9)\n",
      "memory usage: 86.8 MB\n"
     ]
    }
   ],
   "source": [
    "# Pour l'encodage des variables catégorielles, notre choix s'est porté sur LabelEncoder\n",
    "lblEnc = LabelEncoder()\n",
    "for col in df.select_dtypes('object').columns:\n",
    "    df[col] = lblEnc.fit_transform(df[col].astype(str))\n",
    "\n",
    "df.info()\n"
   ]
  },
  {
   "cell_type": "code",
   "execution_count": 42,
   "id": "2960c8e0-eefd-4d46-8ac8-507549a99f4f",
   "metadata": {},
   "outputs": [
    {
     "name": "stderr",
     "output_type": "stream",
     "text": [
      "/opt/conda/lib/python3.7/site-packages/ipykernel_launcher.py:1: FutureWarning: In a future version of pandas all arguments of concat except for the argument 'objs' will be keyword-only\n",
      "  \"\"\"Entry point for launching an IPython kernel.\n"
     ]
    }
   ],
   "source": [
    "pd.concat([df, data.TARGET],1).to_csv('data_cleaned.csv')"
   ]
  },
  {
   "cell_type": "code",
   "execution_count": 22,
   "id": "f2d0d83b-43b4-4740-b2b6-7f705814cc91",
   "metadata": {},
   "outputs": [],
   "source": [
    "df.to_csv('data_cleaned.csv')"
   ]
  },
  {
   "cell_type": "markdown",
   "id": "9d0de3a1-7d19-462c-b5a1-be37e0da4deb",
   "metadata": {},
   "source": [
    "## Traitement des Valeur Nan par KNNImputer"
   ]
  },
  {
   "cell_type": "code",
   "execution_count": null,
   "id": "b4439d7a-57ee-4af0-8212-8d5f5204502f",
   "metadata": {},
   "outputs": [],
   "source": [
    "df = pd.read_csv(\"application_train.csv\")\n",
    "df = df.drop(columns=[\"SK_ID_CURR\"])\n",
    "df = df[df.columns[df.isna().mean() < .5]]\n",
    "\n",
    "imputer = KNNImputer()\n",
    "df = pd.DataFrame(imputer.fit_transform(df), columns=df.columns)\n",
    "df.to_csv(\"data_cleaned_kknimp.csv\")\n",
    "df.head()"
   ]
  },
  {
   "cell_type": "code",
   "execution_count": null,
   "id": "ab97d7eb-c2e6-4956-9794-0c285974687b",
   "metadata": {},
   "outputs": [],
   "source": []
  },
  {
   "cell_type": "markdown",
   "id": "e8720b77-846b-44ff-be2e-fec55ef81fdd",
   "metadata": {},
   "source": [
    "# FEATURES INGENEERING"
   ]
  },
  {
   "cell_type": "code",
   "execution_count": 8,
   "id": "8952c9d4-71e3-4a4e-9718-27378f1b345a",
   "metadata": {},
   "outputs": [
    {
     "data": {
      "text/html": [
       "<div>\n",
       "<style scoped>\n",
       "    .dataframe tbody tr th:only-of-type {\n",
       "        vertical-align: middle;\n",
       "    }\n",
       "\n",
       "    .dataframe tbody tr th {\n",
       "        vertical-align: top;\n",
       "    }\n",
       "\n",
       "    .dataframe thead th {\n",
       "        text-align: right;\n",
       "    }\n",
       "</style>\n",
       "<table border=\"1\" class=\"dataframe\">\n",
       "  <thead>\n",
       "    <tr style=\"text-align: right;\">\n",
       "      <th></th>\n",
       "      <th>TARGET</th>\n",
       "      <th>CODE_GENDER</th>\n",
       "      <th>CNT_CHILDREN</th>\n",
       "      <th>FLAG_OWN_CAR</th>\n",
       "      <th>FLAG_OWN_REALTY</th>\n",
       "      <th>AMT_INCOME_TOTAL</th>\n",
       "      <th>AMT_CREDIT</th>\n",
       "      <th>DAYS_BIRTH</th>\n",
       "      <th>AMT_ANNUITY</th>\n",
       "    </tr>\n",
       "  </thead>\n",
       "  <tbody>\n",
       "    <tr>\n",
       "      <th>0</th>\n",
       "      <td>1</td>\n",
       "      <td>M</td>\n",
       "      <td>0</td>\n",
       "      <td>N</td>\n",
       "      <td>Y</td>\n",
       "      <td>202500.0</td>\n",
       "      <td>406597.5</td>\n",
       "      <td>-9461</td>\n",
       "      <td>24700.5</td>\n",
       "    </tr>\n",
       "    <tr>\n",
       "      <th>1</th>\n",
       "      <td>0</td>\n",
       "      <td>F</td>\n",
       "      <td>0</td>\n",
       "      <td>N</td>\n",
       "      <td>N</td>\n",
       "      <td>270000.0</td>\n",
       "      <td>1293502.5</td>\n",
       "      <td>-16765</td>\n",
       "      <td>35698.5</td>\n",
       "    </tr>\n",
       "    <tr>\n",
       "      <th>2</th>\n",
       "      <td>0</td>\n",
       "      <td>M</td>\n",
       "      <td>0</td>\n",
       "      <td>Y</td>\n",
       "      <td>Y</td>\n",
       "      <td>67500.0</td>\n",
       "      <td>135000.0</td>\n",
       "      <td>-19046</td>\n",
       "      <td>6750.0</td>\n",
       "    </tr>\n",
       "    <tr>\n",
       "      <th>3</th>\n",
       "      <td>0</td>\n",
       "      <td>F</td>\n",
       "      <td>0</td>\n",
       "      <td>N</td>\n",
       "      <td>Y</td>\n",
       "      <td>135000.0</td>\n",
       "      <td>312682.5</td>\n",
       "      <td>-19005</td>\n",
       "      <td>29686.5</td>\n",
       "    </tr>\n",
       "    <tr>\n",
       "      <th>4</th>\n",
       "      <td>0</td>\n",
       "      <td>M</td>\n",
       "      <td>0</td>\n",
       "      <td>N</td>\n",
       "      <td>Y</td>\n",
       "      <td>121500.0</td>\n",
       "      <td>513000.0</td>\n",
       "      <td>-19932</td>\n",
       "      <td>21865.5</td>\n",
       "    </tr>\n",
       "  </tbody>\n",
       "</table>\n",
       "</div>"
      ],
      "text/plain": [
       "   TARGET CODE_GENDER  CNT_CHILDREN FLAG_OWN_CAR FLAG_OWN_REALTY  \\\n",
       "0       1           M             0            N               Y   \n",
       "1       0           F             0            N               N   \n",
       "2       0           M             0            Y               Y   \n",
       "3       0           F             0            N               Y   \n",
       "4       0           M             0            N               Y   \n",
       "\n",
       "   AMT_INCOME_TOTAL  AMT_CREDIT  DAYS_BIRTH  AMT_ANNUITY  \n",
       "0          202500.0    406597.5       -9461      24700.5  \n",
       "1          270000.0   1293502.5      -16765      35698.5  \n",
       "2           67500.0    135000.0      -19046       6750.0  \n",
       "3          135000.0    312682.5      -19005      29686.5  \n",
       "4          121500.0    513000.0      -19932      21865.5  "
      ]
     },
     "execution_count": 8,
     "metadata": {},
     "output_type": "execute_result"
    }
   ],
   "source": [
    "df = pd.read_csv('application_train.csv')\n",
    "df = df[['TARGET', 'CODE_GENDER', 'CNT_CHILDREN', 'FLAG_OWN_CAR','FLAG_OWN_REALTY',\n",
    "         'AMT_INCOME_TOTAL', 'AMT_CREDIT', 'DAYS_BIRTH', 'AMT_ANNUITY',]]\n",
    "df = df.dropna().reset_index(drop=True)\n",
    "df.head()"
   ]
  },
  {
   "cell_type": "code",
   "execution_count": null,
   "id": "e824e647-37ea-4a27-8d58-1c1b3f9bd573",
   "metadata": {},
   "outputs": [],
   "source": []
  },
  {
   "cell_type": "code",
   "execution_count": 9,
   "id": "84845df8-9dea-424a-a8bd-f2c8080bbf79",
   "metadata": {},
   "outputs": [
    {
     "data": {
      "text/plain": [
       "(25650.0, 117000000.0, 168797.23335989713)"
      ]
     },
     "execution_count": 9,
     "metadata": {},
     "output_type": "execute_result"
    }
   ],
   "source": [
    "df.AMT_INCOME_TOTAL.min(), df.AMT_INCOME_TOTAL.max(), df.AMT_INCOME_TOTAL.mean()"
   ]
  },
  {
   "cell_type": "code",
   "execution_count": 10,
   "id": "34b9ecda-303f-4f33-aed2-c8444e0a9546",
   "metadata": {},
   "outputs": [],
   "source": [
    "# creation d'une variable calculée à partir du montant total\n",
    "df[\"class_amt_tot\"] = df.AMT_INCOME_TOTAL.apply(lambda x : \"low\" if x < 168796 else (\"meduim\" if (x >= 168796 or x < 1500000) else \"hight\"))"
   ]
  },
  {
   "cell_type": "code",
   "execution_count": 11,
   "id": "dc21442b-60d6-4d15-bd14-c5b2ac2cac6d",
   "metadata": {},
   "outputs": [
    {
     "data": {
      "text/plain": [
       "(45000.0, 4050000.0, 599027.2933489215)"
      ]
     },
     "execution_count": 11,
     "metadata": {},
     "output_type": "execute_result"
    }
   ],
   "source": [
    "df.AMT_CREDIT.min(), df.AMT_CREDIT.max(), df.AMT_CREDIT.mean()"
   ]
  },
  {
   "cell_type": "code",
   "execution_count": 12,
   "id": "66760b90-bef9-4658-b33b-87d5cb51e660",
   "metadata": {},
   "outputs": [],
   "source": [
    "# creation d'une variable calculée à partir du montant du credit\n",
    "df[\"class_amt_credit\"] = df.AMT_CREDIT.apply(lambda x : \"low\" if x < 599029 else (\"meduim\" if (x >= 599029 or x < 1000000) else \"hight\"))"
   ]
  },
  {
   "cell_type": "code",
   "execution_count": 13,
   "id": "5dbe3f52-6d8c-43ad-9584-bfa2171540c2",
   "metadata": {},
   "outputs": [
    {
     "data": {
      "text/plain": [
       "(1615.5, 258025.5, 27108.573909183444)"
      ]
     },
     "execution_count": 13,
     "metadata": {},
     "output_type": "execute_result"
    }
   ],
   "source": [
    "df.AMT_ANNUITY.min(), df.AMT_ANNUITY.max(), df.AMT_ANNUITY.mean()"
   ]
  },
  {
   "cell_type": "code",
   "execution_count": 14,
   "id": "42832b89-8671-4dc5-be9a-0855536c45f2",
   "metadata": {},
   "outputs": [],
   "source": [
    "# creation d'une variable calculée à partir du montant DE LA RENTE\n",
    "df[\"class_amt_ANNUITY\"] = df.AMT_ANNUITY.apply(lambda x : \"low\" if x < 27108 else (\"meduim\" if (x >= 27108 or x < 100000) else \"hight\"))\n"
   ]
  },
  {
   "cell_type": "code",
   "execution_count": 15,
   "id": "687dda74-4326-4c99-8ab9-f70649b645cb",
   "metadata": {},
   "outputs": [
    {
     "data": {
      "text/plain": [
       "(-25229, -7489, -16037.054211558412)"
      ]
     },
     "execution_count": 15,
     "metadata": {},
     "output_type": "execute_result"
    }
   ],
   "source": [
    "df.DAYS_BIRTH.min(), df.DAYS_BIRTH.max(), df.DAYS_BIRTH.mean()"
   ]
  },
  {
   "cell_type": "code",
   "execution_count": 16,
   "id": "0e5e7d6f-0fca-48d1-b278-8e9437231dac",
   "metadata": {},
   "outputs": [],
   "source": [
    "df.DAYS_BIRTH = abs(df.DAYS_BIRTH)\n",
    "df[\"class_age\"] = df.DAYS_BIRTH.apply(lambda x : \"jeune\" if x < 10000 else (\"adulte\" if x >= 10000 or x < 20000 else \"vieux\"))"
   ]
  },
  {
   "cell_type": "code",
   "execution_count": 18,
   "id": "7d081e61-0bee-4f3e-90b2-0b1a66ba748d",
   "metadata": {},
   "outputs": [
    {
     "data": {
      "text/plain": [
       "0     215359\n",
       "1      61119\n",
       "2      26749\n",
       "3       3717\n",
       "4        429\n",
       "5         84\n",
       "6         21\n",
       "7          7\n",
       "14         3\n",
       "8          2\n",
       "9          2\n",
       "12         2\n",
       "10         2\n",
       "19         2\n",
       "11         1\n",
       "Name: CNT_CHILDREN, dtype: int64"
      ]
     },
     "execution_count": 18,
     "metadata": {},
     "output_type": "execute_result"
    }
   ],
   "source": [
    "df.CNT_CHILDREN.value_counts()"
   ]
  },
  {
   "cell_type": "code",
   "execution_count": 20,
   "id": "8d3dc634-d7c4-4ffa-9f00-648b78f9b848",
   "metadata": {},
   "outputs": [],
   "source": [
    "df[\"CNT_CHILDREN_class\"] = df.CNT_CHILDREN.apply(lambda x : \"3 et plus\" if x >= 3 else str(x))"
   ]
  },
  {
   "cell_type": "code",
   "execution_count": 21,
   "id": "5b423907-db40-437b-9ba1-e6345f2780fc",
   "metadata": {},
   "outputs": [
    {
     "data": {
      "text/html": [
       "<div>\n",
       "<style scoped>\n",
       "    .dataframe tbody tr th:only-of-type {\n",
       "        vertical-align: middle;\n",
       "    }\n",
       "\n",
       "    .dataframe tbody tr th {\n",
       "        vertical-align: top;\n",
       "    }\n",
       "\n",
       "    .dataframe thead th {\n",
       "        text-align: right;\n",
       "    }\n",
       "</style>\n",
       "<table border=\"1\" class=\"dataframe\">\n",
       "  <thead>\n",
       "    <tr style=\"text-align: right;\">\n",
       "      <th></th>\n",
       "      <th>TARGET</th>\n",
       "      <th>CODE_GENDER</th>\n",
       "      <th>CNT_CHILDREN</th>\n",
       "      <th>FLAG_OWN_CAR</th>\n",
       "      <th>FLAG_OWN_REALTY</th>\n",
       "      <th>AMT_INCOME_TOTAL</th>\n",
       "      <th>AMT_CREDIT</th>\n",
       "      <th>DAYS_BIRTH</th>\n",
       "      <th>AMT_ANNUITY</th>\n",
       "      <th>class_amt_tot</th>\n",
       "      <th>class_amt_credit</th>\n",
       "      <th>class_amt_ANNUITY</th>\n",
       "      <th>class_age</th>\n",
       "      <th>CNT_CHILDREN_class</th>\n",
       "    </tr>\n",
       "  </thead>\n",
       "  <tbody>\n",
       "    <tr>\n",
       "      <th>0</th>\n",
       "      <td>1</td>\n",
       "      <td>M</td>\n",
       "      <td>0</td>\n",
       "      <td>N</td>\n",
       "      <td>Y</td>\n",
       "      <td>202500.0</td>\n",
       "      <td>406597.5</td>\n",
       "      <td>9461</td>\n",
       "      <td>24700.5</td>\n",
       "      <td>meduim</td>\n",
       "      <td>low</td>\n",
       "      <td>low</td>\n",
       "      <td>jeune</td>\n",
       "      <td>0</td>\n",
       "    </tr>\n",
       "    <tr>\n",
       "      <th>1</th>\n",
       "      <td>0</td>\n",
       "      <td>F</td>\n",
       "      <td>0</td>\n",
       "      <td>N</td>\n",
       "      <td>N</td>\n",
       "      <td>270000.0</td>\n",
       "      <td>1293502.5</td>\n",
       "      <td>16765</td>\n",
       "      <td>35698.5</td>\n",
       "      <td>meduim</td>\n",
       "      <td>meduim</td>\n",
       "      <td>meduim</td>\n",
       "      <td>adulte</td>\n",
       "      <td>0</td>\n",
       "    </tr>\n",
       "    <tr>\n",
       "      <th>2</th>\n",
       "      <td>0</td>\n",
       "      <td>M</td>\n",
       "      <td>0</td>\n",
       "      <td>Y</td>\n",
       "      <td>Y</td>\n",
       "      <td>67500.0</td>\n",
       "      <td>135000.0</td>\n",
       "      <td>19046</td>\n",
       "      <td>6750.0</td>\n",
       "      <td>low</td>\n",
       "      <td>low</td>\n",
       "      <td>low</td>\n",
       "      <td>adulte</td>\n",
       "      <td>0</td>\n",
       "    </tr>\n",
       "    <tr>\n",
       "      <th>3</th>\n",
       "      <td>0</td>\n",
       "      <td>F</td>\n",
       "      <td>0</td>\n",
       "      <td>N</td>\n",
       "      <td>Y</td>\n",
       "      <td>135000.0</td>\n",
       "      <td>312682.5</td>\n",
       "      <td>19005</td>\n",
       "      <td>29686.5</td>\n",
       "      <td>low</td>\n",
       "      <td>low</td>\n",
       "      <td>meduim</td>\n",
       "      <td>adulte</td>\n",
       "      <td>0</td>\n",
       "    </tr>\n",
       "    <tr>\n",
       "      <th>4</th>\n",
       "      <td>0</td>\n",
       "      <td>M</td>\n",
       "      <td>0</td>\n",
       "      <td>N</td>\n",
       "      <td>Y</td>\n",
       "      <td>121500.0</td>\n",
       "      <td>513000.0</td>\n",
       "      <td>19932</td>\n",
       "      <td>21865.5</td>\n",
       "      <td>low</td>\n",
       "      <td>low</td>\n",
       "      <td>low</td>\n",
       "      <td>adulte</td>\n",
       "      <td>0</td>\n",
       "    </tr>\n",
       "  </tbody>\n",
       "</table>\n",
       "</div>"
      ],
      "text/plain": [
       "   TARGET CODE_GENDER  CNT_CHILDREN FLAG_OWN_CAR FLAG_OWN_REALTY  \\\n",
       "0       1           M             0            N               Y   \n",
       "1       0           F             0            N               N   \n",
       "2       0           M             0            Y               Y   \n",
       "3       0           F             0            N               Y   \n",
       "4       0           M             0            N               Y   \n",
       "\n",
       "   AMT_INCOME_TOTAL  AMT_CREDIT  DAYS_BIRTH  AMT_ANNUITY class_amt_tot  \\\n",
       "0          202500.0    406597.5        9461      24700.5        meduim   \n",
       "1          270000.0   1293502.5       16765      35698.5        meduim   \n",
       "2           67500.0    135000.0       19046       6750.0           low   \n",
       "3          135000.0    312682.5       19005      29686.5           low   \n",
       "4          121500.0    513000.0       19932      21865.5           low   \n",
       "\n",
       "  class_amt_credit class_amt_ANNUITY class_age CNT_CHILDREN_class  \n",
       "0              low               low     jeune                  0  \n",
       "1           meduim            meduim    adulte                  0  \n",
       "2              low               low    adulte                  0  \n",
       "3              low            meduim    adulte                  0  \n",
       "4              low               low    adulte                  0  "
      ]
     },
     "execution_count": 21,
     "metadata": {},
     "output_type": "execute_result"
    }
   ],
   "source": [
    "df.head()"
   ]
  },
  {
   "cell_type": "code",
   "execution_count": 24,
   "id": "d33d4458-3597-408a-96e0-44eeb37441bf",
   "metadata": {},
   "outputs": [
    {
     "data": {
      "text/plain": [
       "F      202440\n",
       "M      105055\n",
       "XNA         4\n",
       "Name: CODE_GENDER, dtype: int64"
      ]
     },
     "execution_count": 24,
     "metadata": {},
     "output_type": "execute_result"
    }
   ],
   "source": [
    "df.CODE_GENDER.value_counts()"
   ]
  },
  {
   "cell_type": "code",
   "execution_count": 29,
   "id": "3244f44d-6acb-4294-9a45-51a3776cda53",
   "metadata": {},
   "outputs": [],
   "source": [
    "df = df.drop(df[df.CODE_GENDER == \"XNA\"].index).reset_index(drop=True)"
   ]
  },
  {
   "cell_type": "code",
   "execution_count": 30,
   "id": "c7c616cd-1989-4553-901d-e4e431c279e7",
   "metadata": {},
   "outputs": [],
   "source": [
    "df.to_csv('final_data_cleanned.csv')"
   ]
  },
  {
   "cell_type": "code",
   "execution_count": null,
   "id": "35230ee9-2067-4c63-a3cb-f1f7c4e8afc5",
   "metadata": {},
   "outputs": [],
   "source": []
  }
 ],
 "metadata": {
  "environment": {
   "kernel": "python3",
   "name": "common-cpu.m94",
   "type": "gcloud",
   "uri": "gcr.io/deeplearning-platform-release/base-cpu:m94"
  },
  "kernelspec": {
   "display_name": "Python 3",
   "language": "python",
   "name": "python3"
  },
  "language_info": {
   "codemirror_mode": {
    "name": "ipython",
    "version": 3
   },
   "file_extension": ".py",
   "mimetype": "text/x-python",
   "name": "python",
   "nbconvert_exporter": "python",
   "pygments_lexer": "ipython3",
   "version": "3.7.12"
  }
 },
 "nbformat": 4,
 "nbformat_minor": 5
}
