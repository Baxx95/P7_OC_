{
 "cells": [
  {
   "cell_type": "code",
   "execution_count": 3,
   "metadata": {},
   "outputs": [],
   "source": [
    "import pandas as pd\n",
    "\n",
    "import numpy as np\n",
    "\n",
    "from imblearn.under_sampling import RandomUnderSampler\n",
    "\n",
    "from pycaret import classification\n"
   ]
  },
  {
   "cell_type": "markdown",
   "metadata": {},
   "source": [
    "# MODELISATION"
   ]
  },
  {
   "cell_type": "markdown",
   "metadata": {
    "jp-MarkdownHeadingCollapsed": true,
    "tags": []
   },
   "source": [
    "## Avec les données imputées par la stratégie de la médiane et du mode"
   ]
  },
  {
   "cell_type": "code",
   "execution_count": 11,
   "metadata": {},
   "outputs": [],
   "source": [
    "df = pd.read_csv('final_data_cleanned.csv')"
   ]
  },
  {
   "cell_type": "code",
   "execution_count": 12,
   "metadata": {},
   "outputs": [
    {
     "data": {
      "text/plain": [
       "(307495, 15)"
      ]
     },
     "execution_count": 12,
     "metadata": {},
     "output_type": "execute_result"
    }
   ],
   "source": [
    "df.shape"
   ]
  },
  {
   "cell_type": "code",
   "execution_count": 13,
   "metadata": {},
   "outputs": [],
   "source": [
    "df = df.drop(\"Unnamed: 0\", 1)"
   ]
  },
  {
   "cell_type": "code",
   "execution_count": 14,
   "metadata": {},
   "outputs": [
    {
     "data": {
      "text/html": [
       "<div>\n",
       "<style scoped>\n",
       "    .dataframe tbody tr th:only-of-type {\n",
       "        vertical-align: middle;\n",
       "    }\n",
       "\n",
       "    .dataframe tbody tr th {\n",
       "        vertical-align: top;\n",
       "    }\n",
       "\n",
       "    .dataframe thead th {\n",
       "        text-align: right;\n",
       "    }\n",
       "</style>\n",
       "<table border=\"1\" class=\"dataframe\">\n",
       "  <thead>\n",
       "    <tr style=\"text-align: right;\">\n",
       "      <th></th>\n",
       "      <th>TARGET</th>\n",
       "      <th>CODE_GENDER</th>\n",
       "      <th>CNT_CHILDREN</th>\n",
       "      <th>FLAG_OWN_CAR</th>\n",
       "      <th>FLAG_OWN_REALTY</th>\n",
       "      <th>AMT_INCOME_TOTAL</th>\n",
       "      <th>AMT_CREDIT</th>\n",
       "      <th>DAYS_BIRTH</th>\n",
       "      <th>AMT_ANNUITY</th>\n",
       "      <th>class_amt_tot</th>\n",
       "      <th>class_amt_credit</th>\n",
       "      <th>class_amt_ANNUITY</th>\n",
       "      <th>class_age</th>\n",
       "      <th>CNT_CHILDREN_class</th>\n",
       "    </tr>\n",
       "  </thead>\n",
       "  <tbody>\n",
       "    <tr>\n",
       "      <th>0</th>\n",
       "      <td>1</td>\n",
       "      <td>M</td>\n",
       "      <td>0</td>\n",
       "      <td>N</td>\n",
       "      <td>Y</td>\n",
       "      <td>202500.0</td>\n",
       "      <td>406597.5</td>\n",
       "      <td>9461</td>\n",
       "      <td>24700.5</td>\n",
       "      <td>meduim</td>\n",
       "      <td>low</td>\n",
       "      <td>low</td>\n",
       "      <td>jeune</td>\n",
       "      <td>0</td>\n",
       "    </tr>\n",
       "    <tr>\n",
       "      <th>1</th>\n",
       "      <td>0</td>\n",
       "      <td>F</td>\n",
       "      <td>0</td>\n",
       "      <td>N</td>\n",
       "      <td>N</td>\n",
       "      <td>270000.0</td>\n",
       "      <td>1293502.5</td>\n",
       "      <td>16765</td>\n",
       "      <td>35698.5</td>\n",
       "      <td>meduim</td>\n",
       "      <td>meduim</td>\n",
       "      <td>meduim</td>\n",
       "      <td>adulte</td>\n",
       "      <td>0</td>\n",
       "    </tr>\n",
       "  </tbody>\n",
       "</table>\n",
       "</div>"
      ],
      "text/plain": [
       "   TARGET CODE_GENDER  CNT_CHILDREN FLAG_OWN_CAR FLAG_OWN_REALTY  \\\n",
       "0       1           M             0            N               Y   \n",
       "1       0           F             0            N               N   \n",
       "\n",
       "   AMT_INCOME_TOTAL  AMT_CREDIT  DAYS_BIRTH  AMT_ANNUITY class_amt_tot  \\\n",
       "0          202500.0    406597.5        9461      24700.5        meduim   \n",
       "1          270000.0   1293502.5       16765      35698.5        meduim   \n",
       "\n",
       "  class_amt_credit class_amt_ANNUITY class_age CNT_CHILDREN_class  \n",
       "0              low               low     jeune                  0  \n",
       "1           meduim            meduim    adulte                  0  "
      ]
     },
     "execution_count": 14,
     "metadata": {},
     "output_type": "execute_result"
    }
   ],
   "source": [
    "df.head(2)"
   ]
  },
  {
   "cell_type": "code",
   "execution_count": 15,
   "metadata": {},
   "outputs": [],
   "source": [
    "df_for_model = df[[\"CODE_GENDER\", \"CNT_CHILDREN_class\", \"FLAG_OWN_CAR\", \"FLAG_OWN_REALTY\",\n",
    "                   \"class_amt_tot\", \"class_amt_credit\", \"class_amt_ANNUITY\", \"class_age\", \"TARGET\"]]\n"
   ]
  },
  {
   "cell_type": "markdown",
   "metadata": {
    "jp-MarkdownHeadingCollapsed": true,
    "tags": []
   },
   "source": [
    "## EQUILIBRAGE DES CLASSES"
   ]
  },
  {
   "cell_type": "code",
   "execution_count": 16,
   "metadata": {},
   "outputs": [
    {
     "data": {
      "text/plain": [
       "0    282670\n",
       "1     24825\n",
       "Name: TARGET, dtype: int64"
      ]
     },
     "execution_count": 16,
     "metadata": {},
     "output_type": "execute_result"
    }
   ],
   "source": [
    "df_for_model.TARGET.value_counts()"
   ]
  },
  {
   "cell_type": "code",
   "execution_count": 17,
   "metadata": {},
   "outputs": [
    {
     "data": {
      "text/plain": [
       "11"
      ]
     },
     "execution_count": 17,
     "metadata": {},
     "output_type": "execute_result"
    }
   ],
   "source": [
    "282670//24825"
   ]
  },
  {
   "cell_type": "markdown",
   "metadata": {},
   "source": [
    "##### On a la classe 0 qui fait 11 fois la 1, d'où la pertinence de l'équilibrage des classes"
   ]
  },
  {
   "cell_type": "code",
   "execution_count": 18,
   "metadata": {},
   "outputs": [],
   "source": [
    "features, target = df_for_model.drop(columns=['TARGET']), df_for_model.TARGET"
   ]
  },
  {
   "cell_type": "code",
   "execution_count": 19,
   "metadata": {
    "tags": []
   },
   "outputs": [
    {
     "data": {
      "text/html": [
       "<div>\n",
       "<style scoped>\n",
       "    .dataframe tbody tr th:only-of-type {\n",
       "        vertical-align: middle;\n",
       "    }\n",
       "\n",
       "    .dataframe tbody tr th {\n",
       "        vertical-align: top;\n",
       "    }\n",
       "\n",
       "    .dataframe thead th {\n",
       "        text-align: right;\n",
       "    }\n",
       "</style>\n",
       "<table border=\"1\" class=\"dataframe\">\n",
       "  <thead>\n",
       "    <tr style=\"text-align: right;\">\n",
       "      <th></th>\n",
       "      <th>CODE_GENDER</th>\n",
       "      <th>CNT_CHILDREN_class</th>\n",
       "      <th>FLAG_OWN_CAR</th>\n",
       "      <th>FLAG_OWN_REALTY</th>\n",
       "      <th>class_amt_tot</th>\n",
       "      <th>class_amt_credit</th>\n",
       "      <th>class_amt_ANNUITY</th>\n",
       "      <th>class_age</th>\n",
       "    </tr>\n",
       "  </thead>\n",
       "  <tbody>\n",
       "    <tr>\n",
       "      <th>0</th>\n",
       "      <td>M</td>\n",
       "      <td>0</td>\n",
       "      <td>N</td>\n",
       "      <td>Y</td>\n",
       "      <td>meduim</td>\n",
       "      <td>low</td>\n",
       "      <td>low</td>\n",
       "      <td>jeune</td>\n",
       "    </tr>\n",
       "    <tr>\n",
       "      <th>1</th>\n",
       "      <td>F</td>\n",
       "      <td>0</td>\n",
       "      <td>N</td>\n",
       "      <td>N</td>\n",
       "      <td>meduim</td>\n",
       "      <td>meduim</td>\n",
       "      <td>meduim</td>\n",
       "      <td>adulte</td>\n",
       "    </tr>\n",
       "  </tbody>\n",
       "</table>\n",
       "</div>"
      ],
      "text/plain": [
       "  CODE_GENDER CNT_CHILDREN_class FLAG_OWN_CAR FLAG_OWN_REALTY class_amt_tot  \\\n",
       "0           M                  0            N               Y        meduim   \n",
       "1           F                  0            N               N        meduim   \n",
       "\n",
       "  class_amt_credit class_amt_ANNUITY class_age  \n",
       "0              low               low     jeune  \n",
       "1           meduim            meduim    adulte  "
      ]
     },
     "execution_count": 19,
     "metadata": {},
     "output_type": "execute_result"
    }
   ],
   "source": [
    "features[:2]"
   ]
  },
  {
   "cell_type": "code",
   "execution_count": 20,
   "metadata": {},
   "outputs": [],
   "source": [
    "# define undersample strategy\n",
    "# undersample = RandomUnderSampler(sampling_strategy='majority')\n",
    "undersample = RandomUnderSampler(sampling_strategy=.25)\n",
    "\n",
    "# fit and apply the transform\n",
    "X_under, y_under = undersample.fit_resample(df_for_model.drop(columns=[\"TARGET\"]), df_for_model.TARGET)"
   ]
  },
  {
   "cell_type": "code",
   "execution_count": 21,
   "metadata": {},
   "outputs": [
    {
     "data": {
      "text/plain": [
       "((307495, 9), (124125, 8))"
      ]
     },
     "execution_count": 21,
     "metadata": {},
     "output_type": "execute_result"
    }
   ],
   "source": [
    "df_for_model.shape, X_under.shape"
   ]
  },
  {
   "cell_type": "code",
   "execution_count": 22,
   "metadata": {},
   "outputs": [
    {
     "data": {
      "text/plain": [
       "0    99300\n",
       "1    24825\n",
       "Name: TARGET, dtype: int64"
      ]
     },
     "execution_count": 22,
     "metadata": {},
     "output_type": "execute_result"
    }
   ],
   "source": [
    "y_under.value_counts()"
   ]
  },
  {
   "cell_type": "markdown",
   "metadata": {
    "tags": []
   },
   "source": [
    "## Création, entrainement et optimisation de modèle"
   ]
  },
  {
   "cell_type": "code",
   "execution_count": 95,
   "metadata": {
    "collapsed": true,
    "jupyter": {
     "outputs_hidden": true
    },
    "tags": []
   },
   "outputs": [
    {
     "data": {
      "text/html": [
       "<style type=\"text/css\">\n",
       "#T_209d0_row44_col1 {\n",
       "  background-color: lightgreen;\n",
       "}\n",
       "</style>\n",
       "<table id=\"T_209d0_\">\n",
       "  <thead>\n",
       "    <tr>\n",
       "      <th class=\"blank level0\" >&nbsp;</th>\n",
       "      <th class=\"col_heading level0 col0\" >Description</th>\n",
       "      <th class=\"col_heading level0 col1\" >Value</th>\n",
       "    </tr>\n",
       "  </thead>\n",
       "  <tbody>\n",
       "    <tr>\n",
       "      <th id=\"T_209d0_level0_row0\" class=\"row_heading level0 row0\" >0</th>\n",
       "      <td id=\"T_209d0_row0_col0\" class=\"data row0 col0\" >session_id</td>\n",
       "      <td id=\"T_209d0_row0_col1\" class=\"data row0 col1\" >2611</td>\n",
       "    </tr>\n",
       "    <tr>\n",
       "      <th id=\"T_209d0_level0_row1\" class=\"row_heading level0 row1\" >1</th>\n",
       "      <td id=\"T_209d0_row1_col0\" class=\"data row1 col0\" >Target</td>\n",
       "      <td id=\"T_209d0_row1_col1\" class=\"data row1 col1\" >TARGET</td>\n",
       "    </tr>\n",
       "    <tr>\n",
       "      <th id=\"T_209d0_level0_row2\" class=\"row_heading level0 row2\" >2</th>\n",
       "      <td id=\"T_209d0_row2_col0\" class=\"data row2 col0\" >Target Type</td>\n",
       "      <td id=\"T_209d0_row2_col1\" class=\"data row2 col1\" >Binary</td>\n",
       "    </tr>\n",
       "    <tr>\n",
       "      <th id=\"T_209d0_level0_row3\" class=\"row_heading level0 row3\" >3</th>\n",
       "      <td id=\"T_209d0_row3_col0\" class=\"data row3 col0\" >Label Encoded</td>\n",
       "      <td id=\"T_209d0_row3_col1\" class=\"data row3 col1\" >None</td>\n",
       "    </tr>\n",
       "    <tr>\n",
       "      <th id=\"T_209d0_level0_row4\" class=\"row_heading level0 row4\" >4</th>\n",
       "      <td id=\"T_209d0_row4_col0\" class=\"data row4 col0\" >Original Data</td>\n",
       "      <td id=\"T_209d0_row4_col1\" class=\"data row4 col1\" >(124125, 9)</td>\n",
       "    </tr>\n",
       "    <tr>\n",
       "      <th id=\"T_209d0_level0_row5\" class=\"row_heading level0 row5\" >5</th>\n",
       "      <td id=\"T_209d0_row5_col0\" class=\"data row5 col0\" >Missing Values</td>\n",
       "      <td id=\"T_209d0_row5_col1\" class=\"data row5 col1\" >False</td>\n",
       "    </tr>\n",
       "    <tr>\n",
       "      <th id=\"T_209d0_level0_row6\" class=\"row_heading level0 row6\" >6</th>\n",
       "      <td id=\"T_209d0_row6_col0\" class=\"data row6 col0\" >Numeric Features</td>\n",
       "      <td id=\"T_209d0_row6_col1\" class=\"data row6 col1\" >0</td>\n",
       "    </tr>\n",
       "    <tr>\n",
       "      <th id=\"T_209d0_level0_row7\" class=\"row_heading level0 row7\" >7</th>\n",
       "      <td id=\"T_209d0_row7_col0\" class=\"data row7 col0\" >Categorical Features</td>\n",
       "      <td id=\"T_209d0_row7_col1\" class=\"data row7 col1\" >8</td>\n",
       "    </tr>\n",
       "    <tr>\n",
       "      <th id=\"T_209d0_level0_row8\" class=\"row_heading level0 row8\" >8</th>\n",
       "      <td id=\"T_209d0_row8_col0\" class=\"data row8 col0\" >Ordinal Features</td>\n",
       "      <td id=\"T_209d0_row8_col1\" class=\"data row8 col1\" >False</td>\n",
       "    </tr>\n",
       "    <tr>\n",
       "      <th id=\"T_209d0_level0_row9\" class=\"row_heading level0 row9\" >9</th>\n",
       "      <td id=\"T_209d0_row9_col0\" class=\"data row9 col0\" >High Cardinality Features</td>\n",
       "      <td id=\"T_209d0_row9_col1\" class=\"data row9 col1\" >False</td>\n",
       "    </tr>\n",
       "    <tr>\n",
       "      <th id=\"T_209d0_level0_row10\" class=\"row_heading level0 row10\" >10</th>\n",
       "      <td id=\"T_209d0_row10_col0\" class=\"data row10 col0\" >High Cardinality Method</td>\n",
       "      <td id=\"T_209d0_row10_col1\" class=\"data row10 col1\" >None</td>\n",
       "    </tr>\n",
       "    <tr>\n",
       "      <th id=\"T_209d0_level0_row11\" class=\"row_heading level0 row11\" >11</th>\n",
       "      <td id=\"T_209d0_row11_col0\" class=\"data row11 col0\" >Transformed Train Set</td>\n",
       "      <td id=\"T_209d0_row11_col1\" class=\"data row11 col1\" >(86887, 11)</td>\n",
       "    </tr>\n",
       "    <tr>\n",
       "      <th id=\"T_209d0_level0_row12\" class=\"row_heading level0 row12\" >12</th>\n",
       "      <td id=\"T_209d0_row12_col0\" class=\"data row12 col0\" >Transformed Test Set</td>\n",
       "      <td id=\"T_209d0_row12_col1\" class=\"data row12 col1\" >(37238, 11)</td>\n",
       "    </tr>\n",
       "    <tr>\n",
       "      <th id=\"T_209d0_level0_row13\" class=\"row_heading level0 row13\" >13</th>\n",
       "      <td id=\"T_209d0_row13_col0\" class=\"data row13 col0\" >Shuffle Train-Test</td>\n",
       "      <td id=\"T_209d0_row13_col1\" class=\"data row13 col1\" >True</td>\n",
       "    </tr>\n",
       "    <tr>\n",
       "      <th id=\"T_209d0_level0_row14\" class=\"row_heading level0 row14\" >14</th>\n",
       "      <td id=\"T_209d0_row14_col0\" class=\"data row14 col0\" >Stratify Train-Test</td>\n",
       "      <td id=\"T_209d0_row14_col1\" class=\"data row14 col1\" >False</td>\n",
       "    </tr>\n",
       "    <tr>\n",
       "      <th id=\"T_209d0_level0_row15\" class=\"row_heading level0 row15\" >15</th>\n",
       "      <td id=\"T_209d0_row15_col0\" class=\"data row15 col0\" >Fold Generator</td>\n",
       "      <td id=\"T_209d0_row15_col1\" class=\"data row15 col1\" >StratifiedKFold</td>\n",
       "    </tr>\n",
       "    <tr>\n",
       "      <th id=\"T_209d0_level0_row16\" class=\"row_heading level0 row16\" >16</th>\n",
       "      <td id=\"T_209d0_row16_col0\" class=\"data row16 col0\" >Fold Number</td>\n",
       "      <td id=\"T_209d0_row16_col1\" class=\"data row16 col1\" >10</td>\n",
       "    </tr>\n",
       "    <tr>\n",
       "      <th id=\"T_209d0_level0_row17\" class=\"row_heading level0 row17\" >17</th>\n",
       "      <td id=\"T_209d0_row17_col0\" class=\"data row17 col0\" >CPU Jobs</td>\n",
       "      <td id=\"T_209d0_row17_col1\" class=\"data row17 col1\" >-1</td>\n",
       "    </tr>\n",
       "    <tr>\n",
       "      <th id=\"T_209d0_level0_row18\" class=\"row_heading level0 row18\" >18</th>\n",
       "      <td id=\"T_209d0_row18_col0\" class=\"data row18 col0\" >Use GPU</td>\n",
       "      <td id=\"T_209d0_row18_col1\" class=\"data row18 col1\" >False</td>\n",
       "    </tr>\n",
       "    <tr>\n",
       "      <th id=\"T_209d0_level0_row19\" class=\"row_heading level0 row19\" >19</th>\n",
       "      <td id=\"T_209d0_row19_col0\" class=\"data row19 col0\" >Log Experiment</td>\n",
       "      <td id=\"T_209d0_row19_col1\" class=\"data row19 col1\" >False</td>\n",
       "    </tr>\n",
       "    <tr>\n",
       "      <th id=\"T_209d0_level0_row20\" class=\"row_heading level0 row20\" >20</th>\n",
       "      <td id=\"T_209d0_row20_col0\" class=\"data row20 col0\" >Experiment Name</td>\n",
       "      <td id=\"T_209d0_row20_col1\" class=\"data row20 col1\" >clf-default-name</td>\n",
       "    </tr>\n",
       "    <tr>\n",
       "      <th id=\"T_209d0_level0_row21\" class=\"row_heading level0 row21\" >21</th>\n",
       "      <td id=\"T_209d0_row21_col0\" class=\"data row21 col0\" >USI</td>\n",
       "      <td id=\"T_209d0_row21_col1\" class=\"data row21 col1\" >7528</td>\n",
       "    </tr>\n",
       "    <tr>\n",
       "      <th id=\"T_209d0_level0_row22\" class=\"row_heading level0 row22\" >22</th>\n",
       "      <td id=\"T_209d0_row22_col0\" class=\"data row22 col0\" >Imputation Type</td>\n",
       "      <td id=\"T_209d0_row22_col1\" class=\"data row22 col1\" >simple</td>\n",
       "    </tr>\n",
       "    <tr>\n",
       "      <th id=\"T_209d0_level0_row23\" class=\"row_heading level0 row23\" >23</th>\n",
       "      <td id=\"T_209d0_row23_col0\" class=\"data row23 col0\" >Iterative Imputation Iteration</td>\n",
       "      <td id=\"T_209d0_row23_col1\" class=\"data row23 col1\" >None</td>\n",
       "    </tr>\n",
       "    <tr>\n",
       "      <th id=\"T_209d0_level0_row24\" class=\"row_heading level0 row24\" >24</th>\n",
       "      <td id=\"T_209d0_row24_col0\" class=\"data row24 col0\" >Numeric Imputer</td>\n",
       "      <td id=\"T_209d0_row24_col1\" class=\"data row24 col1\" >mean</td>\n",
       "    </tr>\n",
       "    <tr>\n",
       "      <th id=\"T_209d0_level0_row25\" class=\"row_heading level0 row25\" >25</th>\n",
       "      <td id=\"T_209d0_row25_col0\" class=\"data row25 col0\" >Iterative Imputation Numeric Model</td>\n",
       "      <td id=\"T_209d0_row25_col1\" class=\"data row25 col1\" >None</td>\n",
       "    </tr>\n",
       "    <tr>\n",
       "      <th id=\"T_209d0_level0_row26\" class=\"row_heading level0 row26\" >26</th>\n",
       "      <td id=\"T_209d0_row26_col0\" class=\"data row26 col0\" >Categorical Imputer</td>\n",
       "      <td id=\"T_209d0_row26_col1\" class=\"data row26 col1\" >constant</td>\n",
       "    </tr>\n",
       "    <tr>\n",
       "      <th id=\"T_209d0_level0_row27\" class=\"row_heading level0 row27\" >27</th>\n",
       "      <td id=\"T_209d0_row27_col0\" class=\"data row27 col0\" >Iterative Imputation Categorical Model</td>\n",
       "      <td id=\"T_209d0_row27_col1\" class=\"data row27 col1\" >None</td>\n",
       "    </tr>\n",
       "    <tr>\n",
       "      <th id=\"T_209d0_level0_row28\" class=\"row_heading level0 row28\" >28</th>\n",
       "      <td id=\"T_209d0_row28_col0\" class=\"data row28 col0\" >Unknown Categoricals Handling</td>\n",
       "      <td id=\"T_209d0_row28_col1\" class=\"data row28 col1\" >least_frequent</td>\n",
       "    </tr>\n",
       "    <tr>\n",
       "      <th id=\"T_209d0_level0_row29\" class=\"row_heading level0 row29\" >29</th>\n",
       "      <td id=\"T_209d0_row29_col0\" class=\"data row29 col0\" >Normalize</td>\n",
       "      <td id=\"T_209d0_row29_col1\" class=\"data row29 col1\" >False</td>\n",
       "    </tr>\n",
       "    <tr>\n",
       "      <th id=\"T_209d0_level0_row30\" class=\"row_heading level0 row30\" >30</th>\n",
       "      <td id=\"T_209d0_row30_col0\" class=\"data row30 col0\" >Normalize Method</td>\n",
       "      <td id=\"T_209d0_row30_col1\" class=\"data row30 col1\" >None</td>\n",
       "    </tr>\n",
       "    <tr>\n",
       "      <th id=\"T_209d0_level0_row31\" class=\"row_heading level0 row31\" >31</th>\n",
       "      <td id=\"T_209d0_row31_col0\" class=\"data row31 col0\" >Transformation</td>\n",
       "      <td id=\"T_209d0_row31_col1\" class=\"data row31 col1\" >False</td>\n",
       "    </tr>\n",
       "    <tr>\n",
       "      <th id=\"T_209d0_level0_row32\" class=\"row_heading level0 row32\" >32</th>\n",
       "      <td id=\"T_209d0_row32_col0\" class=\"data row32 col0\" >Transformation Method</td>\n",
       "      <td id=\"T_209d0_row32_col1\" class=\"data row32 col1\" >None</td>\n",
       "    </tr>\n",
       "    <tr>\n",
       "      <th id=\"T_209d0_level0_row33\" class=\"row_heading level0 row33\" >33</th>\n",
       "      <td id=\"T_209d0_row33_col0\" class=\"data row33 col0\" >PCA</td>\n",
       "      <td id=\"T_209d0_row33_col1\" class=\"data row33 col1\" >False</td>\n",
       "    </tr>\n",
       "    <tr>\n",
       "      <th id=\"T_209d0_level0_row34\" class=\"row_heading level0 row34\" >34</th>\n",
       "      <td id=\"T_209d0_row34_col0\" class=\"data row34 col0\" >PCA Method</td>\n",
       "      <td id=\"T_209d0_row34_col1\" class=\"data row34 col1\" >None</td>\n",
       "    </tr>\n",
       "    <tr>\n",
       "      <th id=\"T_209d0_level0_row35\" class=\"row_heading level0 row35\" >35</th>\n",
       "      <td id=\"T_209d0_row35_col0\" class=\"data row35 col0\" >PCA Components</td>\n",
       "      <td id=\"T_209d0_row35_col1\" class=\"data row35 col1\" >None</td>\n",
       "    </tr>\n",
       "    <tr>\n",
       "      <th id=\"T_209d0_level0_row36\" class=\"row_heading level0 row36\" >36</th>\n",
       "      <td id=\"T_209d0_row36_col0\" class=\"data row36 col0\" >Ignore Low Variance</td>\n",
       "      <td id=\"T_209d0_row36_col1\" class=\"data row36 col1\" >False</td>\n",
       "    </tr>\n",
       "    <tr>\n",
       "      <th id=\"T_209d0_level0_row37\" class=\"row_heading level0 row37\" >37</th>\n",
       "      <td id=\"T_209d0_row37_col0\" class=\"data row37 col0\" >Combine Rare Levels</td>\n",
       "      <td id=\"T_209d0_row37_col1\" class=\"data row37 col1\" >False</td>\n",
       "    </tr>\n",
       "    <tr>\n",
       "      <th id=\"T_209d0_level0_row38\" class=\"row_heading level0 row38\" >38</th>\n",
       "      <td id=\"T_209d0_row38_col0\" class=\"data row38 col0\" >Rare Level Threshold</td>\n",
       "      <td id=\"T_209d0_row38_col1\" class=\"data row38 col1\" >None</td>\n",
       "    </tr>\n",
       "    <tr>\n",
       "      <th id=\"T_209d0_level0_row39\" class=\"row_heading level0 row39\" >39</th>\n",
       "      <td id=\"T_209d0_row39_col0\" class=\"data row39 col0\" >Numeric Binning</td>\n",
       "      <td id=\"T_209d0_row39_col1\" class=\"data row39 col1\" >False</td>\n",
       "    </tr>\n",
       "    <tr>\n",
       "      <th id=\"T_209d0_level0_row40\" class=\"row_heading level0 row40\" >40</th>\n",
       "      <td id=\"T_209d0_row40_col0\" class=\"data row40 col0\" >Remove Outliers</td>\n",
       "      <td id=\"T_209d0_row40_col1\" class=\"data row40 col1\" >False</td>\n",
       "    </tr>\n",
       "    <tr>\n",
       "      <th id=\"T_209d0_level0_row41\" class=\"row_heading level0 row41\" >41</th>\n",
       "      <td id=\"T_209d0_row41_col0\" class=\"data row41 col0\" >Outliers Threshold</td>\n",
       "      <td id=\"T_209d0_row41_col1\" class=\"data row41 col1\" >None</td>\n",
       "    </tr>\n",
       "    <tr>\n",
       "      <th id=\"T_209d0_level0_row42\" class=\"row_heading level0 row42\" >42</th>\n",
       "      <td id=\"T_209d0_row42_col0\" class=\"data row42 col0\" >Remove Multicollinearity</td>\n",
       "      <td id=\"T_209d0_row42_col1\" class=\"data row42 col1\" >False</td>\n",
       "    </tr>\n",
       "    <tr>\n",
       "      <th id=\"T_209d0_level0_row43\" class=\"row_heading level0 row43\" >43</th>\n",
       "      <td id=\"T_209d0_row43_col0\" class=\"data row43 col0\" >Multicollinearity Threshold</td>\n",
       "      <td id=\"T_209d0_row43_col1\" class=\"data row43 col1\" >None</td>\n",
       "    </tr>\n",
       "    <tr>\n",
       "      <th id=\"T_209d0_level0_row44\" class=\"row_heading level0 row44\" >44</th>\n",
       "      <td id=\"T_209d0_row44_col0\" class=\"data row44 col0\" >Remove Perfect Collinearity</td>\n",
       "      <td id=\"T_209d0_row44_col1\" class=\"data row44 col1\" >True</td>\n",
       "    </tr>\n",
       "    <tr>\n",
       "      <th id=\"T_209d0_level0_row45\" class=\"row_heading level0 row45\" >45</th>\n",
       "      <td id=\"T_209d0_row45_col0\" class=\"data row45 col0\" >Clustering</td>\n",
       "      <td id=\"T_209d0_row45_col1\" class=\"data row45 col1\" >False</td>\n",
       "    </tr>\n",
       "    <tr>\n",
       "      <th id=\"T_209d0_level0_row46\" class=\"row_heading level0 row46\" >46</th>\n",
       "      <td id=\"T_209d0_row46_col0\" class=\"data row46 col0\" >Clustering Iteration</td>\n",
       "      <td id=\"T_209d0_row46_col1\" class=\"data row46 col1\" >None</td>\n",
       "    </tr>\n",
       "    <tr>\n",
       "      <th id=\"T_209d0_level0_row47\" class=\"row_heading level0 row47\" >47</th>\n",
       "      <td id=\"T_209d0_row47_col0\" class=\"data row47 col0\" >Polynomial Features</td>\n",
       "      <td id=\"T_209d0_row47_col1\" class=\"data row47 col1\" >False</td>\n",
       "    </tr>\n",
       "    <tr>\n",
       "      <th id=\"T_209d0_level0_row48\" class=\"row_heading level0 row48\" >48</th>\n",
       "      <td id=\"T_209d0_row48_col0\" class=\"data row48 col0\" >Polynomial Degree</td>\n",
       "      <td id=\"T_209d0_row48_col1\" class=\"data row48 col1\" >None</td>\n",
       "    </tr>\n",
       "    <tr>\n",
       "      <th id=\"T_209d0_level0_row49\" class=\"row_heading level0 row49\" >49</th>\n",
       "      <td id=\"T_209d0_row49_col0\" class=\"data row49 col0\" >Trignometry Features</td>\n",
       "      <td id=\"T_209d0_row49_col1\" class=\"data row49 col1\" >False</td>\n",
       "    </tr>\n",
       "    <tr>\n",
       "      <th id=\"T_209d0_level0_row50\" class=\"row_heading level0 row50\" >50</th>\n",
       "      <td id=\"T_209d0_row50_col0\" class=\"data row50 col0\" >Polynomial Threshold</td>\n",
       "      <td id=\"T_209d0_row50_col1\" class=\"data row50 col1\" >None</td>\n",
       "    </tr>\n",
       "    <tr>\n",
       "      <th id=\"T_209d0_level0_row51\" class=\"row_heading level0 row51\" >51</th>\n",
       "      <td id=\"T_209d0_row51_col0\" class=\"data row51 col0\" >Group Features</td>\n",
       "      <td id=\"T_209d0_row51_col1\" class=\"data row51 col1\" >False</td>\n",
       "    </tr>\n",
       "    <tr>\n",
       "      <th id=\"T_209d0_level0_row52\" class=\"row_heading level0 row52\" >52</th>\n",
       "      <td id=\"T_209d0_row52_col0\" class=\"data row52 col0\" >Feature Selection</td>\n",
       "      <td id=\"T_209d0_row52_col1\" class=\"data row52 col1\" >False</td>\n",
       "    </tr>\n",
       "    <tr>\n",
       "      <th id=\"T_209d0_level0_row53\" class=\"row_heading level0 row53\" >53</th>\n",
       "      <td id=\"T_209d0_row53_col0\" class=\"data row53 col0\" >Feature Selection Method</td>\n",
       "      <td id=\"T_209d0_row53_col1\" class=\"data row53 col1\" >classic</td>\n",
       "    </tr>\n",
       "    <tr>\n",
       "      <th id=\"T_209d0_level0_row54\" class=\"row_heading level0 row54\" >54</th>\n",
       "      <td id=\"T_209d0_row54_col0\" class=\"data row54 col0\" >Features Selection Threshold</td>\n",
       "      <td id=\"T_209d0_row54_col1\" class=\"data row54 col1\" >None</td>\n",
       "    </tr>\n",
       "    <tr>\n",
       "      <th id=\"T_209d0_level0_row55\" class=\"row_heading level0 row55\" >55</th>\n",
       "      <td id=\"T_209d0_row55_col0\" class=\"data row55 col0\" >Feature Interaction</td>\n",
       "      <td id=\"T_209d0_row55_col1\" class=\"data row55 col1\" >False</td>\n",
       "    </tr>\n",
       "    <tr>\n",
       "      <th id=\"T_209d0_level0_row56\" class=\"row_heading level0 row56\" >56</th>\n",
       "      <td id=\"T_209d0_row56_col0\" class=\"data row56 col0\" >Feature Ratio</td>\n",
       "      <td id=\"T_209d0_row56_col1\" class=\"data row56 col1\" >False</td>\n",
       "    </tr>\n",
       "    <tr>\n",
       "      <th id=\"T_209d0_level0_row57\" class=\"row_heading level0 row57\" >57</th>\n",
       "      <td id=\"T_209d0_row57_col0\" class=\"data row57 col0\" >Interaction Threshold</td>\n",
       "      <td id=\"T_209d0_row57_col1\" class=\"data row57 col1\" >None</td>\n",
       "    </tr>\n",
       "    <tr>\n",
       "      <th id=\"T_209d0_level0_row58\" class=\"row_heading level0 row58\" >58</th>\n",
       "      <td id=\"T_209d0_row58_col0\" class=\"data row58 col0\" >Fix Imbalance</td>\n",
       "      <td id=\"T_209d0_row58_col1\" class=\"data row58 col1\" >False</td>\n",
       "    </tr>\n",
       "    <tr>\n",
       "      <th id=\"T_209d0_level0_row59\" class=\"row_heading level0 row59\" >59</th>\n",
       "      <td id=\"T_209d0_row59_col0\" class=\"data row59 col0\" >Fix Imbalance Method</td>\n",
       "      <td id=\"T_209d0_row59_col1\" class=\"data row59 col1\" >SMOTE</td>\n",
       "    </tr>\n",
       "  </tbody>\n",
       "</table>\n"
      ],
      "text/plain": [
       "<pandas.io.formats.style.Styler at 0x7fe09c6ce150>"
      ]
     },
     "metadata": {},
     "output_type": "display_data"
    }
   ],
   "source": [
    "s = classification.setup(pd.concat([X_under, y_under], axis=1), target = 'TARGET')"
   ]
  },
  {
   "cell_type": "code",
   "execution_count": 96,
   "metadata": {
    "tags": []
   },
   "outputs": [
    {
     "data": {
      "text/html": [
       "<style type=\"text/css\">\n",
       "#T_4e20c_ th {\n",
       "  text-align: left;\n",
       "}\n",
       "#T_4e20c_row0_col0, #T_4e20c_row0_col2, #T_4e20c_row0_col3, #T_4e20c_row0_col4, #T_4e20c_row0_col5, #T_4e20c_row0_col6, #T_4e20c_row0_col7, #T_4e20c_row1_col0, #T_4e20c_row1_col2, #T_4e20c_row1_col3, #T_4e20c_row1_col4, #T_4e20c_row1_col5, #T_4e20c_row1_col6, #T_4e20c_row1_col7, #T_4e20c_row2_col0, #T_4e20c_row2_col2, #T_4e20c_row2_col3, #T_4e20c_row2_col4, #T_4e20c_row2_col5, #T_4e20c_row2_col6, #T_4e20c_row2_col7, #T_4e20c_row3_col0, #T_4e20c_row3_col2, #T_4e20c_row3_col3, #T_4e20c_row3_col4, #T_4e20c_row3_col5, #T_4e20c_row3_col6, #T_4e20c_row3_col7, #T_4e20c_row4_col0, #T_4e20c_row4_col3, #T_4e20c_row4_col4, #T_4e20c_row4_col5, #T_4e20c_row4_col6, #T_4e20c_row4_col7, #T_4e20c_row5_col0, #T_4e20c_row5_col2, #T_4e20c_row5_col3, #T_4e20c_row5_col4, #T_4e20c_row5_col5, #T_4e20c_row5_col6, #T_4e20c_row5_col7, #T_4e20c_row6_col0, #T_4e20c_row6_col2, #T_4e20c_row6_col3, #T_4e20c_row6_col4, #T_4e20c_row6_col5, #T_4e20c_row6_col6, #T_4e20c_row6_col7, #T_4e20c_row7_col0, #T_4e20c_row7_col2, #T_4e20c_row7_col3, #T_4e20c_row7_col4, #T_4e20c_row7_col5, #T_4e20c_row7_col6, #T_4e20c_row7_col7, #T_4e20c_row8_col0, #T_4e20c_row8_col1, #T_4e20c_row8_col2, #T_4e20c_row8_col3, #T_4e20c_row8_col4, #T_4e20c_row8_col5, #T_4e20c_row8_col6, #T_4e20c_row8_col7, #T_4e20c_row9_col0, #T_4e20c_row9_col1, #T_4e20c_row9_col2, #T_4e20c_row9_col3, #T_4e20c_row9_col5, #T_4e20c_row9_col6, #T_4e20c_row9_col7, #T_4e20c_row10_col0, #T_4e20c_row10_col1, #T_4e20c_row10_col2, #T_4e20c_row10_col3, #T_4e20c_row10_col4, #T_4e20c_row10_col5, #T_4e20c_row10_col6, #T_4e20c_row10_col7, #T_4e20c_row11_col0, #T_4e20c_row11_col1, #T_4e20c_row11_col2, #T_4e20c_row11_col3, #T_4e20c_row11_col4, #T_4e20c_row11_col5, #T_4e20c_row11_col6, #T_4e20c_row11_col7, #T_4e20c_row12_col0, #T_4e20c_row12_col1, #T_4e20c_row12_col2, #T_4e20c_row12_col3, #T_4e20c_row12_col4, #T_4e20c_row12_col5, #T_4e20c_row12_col6, #T_4e20c_row12_col7, #T_4e20c_row13_col0, #T_4e20c_row13_col1, #T_4e20c_row13_col2, #T_4e20c_row13_col3, #T_4e20c_row13_col4, #T_4e20c_row13_col5, #T_4e20c_row14_col0, #T_4e20c_row14_col1, #T_4e20c_row14_col2, #T_4e20c_row14_col4, #T_4e20c_row14_col6, #T_4e20c_row14_col7 {\n",
       "  text-align: left;\n",
       "}\n",
       "#T_4e20c_row0_col1, #T_4e20c_row1_col1, #T_4e20c_row2_col1, #T_4e20c_row3_col1, #T_4e20c_row4_col1, #T_4e20c_row4_col2, #T_4e20c_row5_col1, #T_4e20c_row6_col1, #T_4e20c_row7_col1, #T_4e20c_row9_col4, #T_4e20c_row13_col6, #T_4e20c_row13_col7, #T_4e20c_row14_col3, #T_4e20c_row14_col5 {\n",
       "  text-align: left;\n",
       "  background-color: yellow;\n",
       "}\n",
       "#T_4e20c_row0_col8, #T_4e20c_row1_col8, #T_4e20c_row2_col8, #T_4e20c_row3_col8, #T_4e20c_row4_col8, #T_4e20c_row5_col8, #T_4e20c_row6_col8, #T_4e20c_row8_col8, #T_4e20c_row9_col8, #T_4e20c_row10_col8, #T_4e20c_row11_col8, #T_4e20c_row12_col8, #T_4e20c_row13_col8, #T_4e20c_row14_col8 {\n",
       "  text-align: left;\n",
       "  background-color: lightgrey;\n",
       "}\n",
       "#T_4e20c_row7_col8 {\n",
       "  text-align: left;\n",
       "  background-color: yellow;\n",
       "  background-color: lightgrey;\n",
       "}\n",
       "</style>\n",
       "<table id=\"T_4e20c_\">\n",
       "  <thead>\n",
       "    <tr>\n",
       "      <th class=\"blank level0\" >&nbsp;</th>\n",
       "      <th class=\"col_heading level0 col0\" >Model</th>\n",
       "      <th class=\"col_heading level0 col1\" >Accuracy</th>\n",
       "      <th class=\"col_heading level0 col2\" >AUC</th>\n",
       "      <th class=\"col_heading level0 col3\" >Recall</th>\n",
       "      <th class=\"col_heading level0 col4\" >Prec.</th>\n",
       "      <th class=\"col_heading level0 col5\" >F1</th>\n",
       "      <th class=\"col_heading level0 col6\" >Kappa</th>\n",
       "      <th class=\"col_heading level0 col7\" >MCC</th>\n",
       "      <th class=\"col_heading level0 col8\" >TT (Sec)</th>\n",
       "    </tr>\n",
       "  </thead>\n",
       "  <tbody>\n",
       "    <tr>\n",
       "      <th id=\"T_4e20c_level0_row0\" class=\"row_heading level0 row0\" >lr</th>\n",
       "      <td id=\"T_4e20c_row0_col0\" class=\"data row0 col0\" >Logistic Regression</td>\n",
       "      <td id=\"T_4e20c_row0_col1\" class=\"data row0 col1\" >0.7996</td>\n",
       "      <td id=\"T_4e20c_row0_col2\" class=\"data row0 col2\" >0.5857</td>\n",
       "      <td id=\"T_4e20c_row0_col3\" class=\"data row0 col3\" >0.0000</td>\n",
       "      <td id=\"T_4e20c_row0_col4\" class=\"data row0 col4\" >0.0000</td>\n",
       "      <td id=\"T_4e20c_row0_col5\" class=\"data row0 col5\" >0.0000</td>\n",
       "      <td id=\"T_4e20c_row0_col6\" class=\"data row0 col6\" >0.0000</td>\n",
       "      <td id=\"T_4e20c_row0_col7\" class=\"data row0 col7\" >0.0000</td>\n",
       "      <td id=\"T_4e20c_row0_col8\" class=\"data row0 col8\" >0.0620</td>\n",
       "    </tr>\n",
       "    <tr>\n",
       "      <th id=\"T_4e20c_level0_row1\" class=\"row_heading level0 row1\" >svm</th>\n",
       "      <td id=\"T_4e20c_row1_col0\" class=\"data row1 col0\" >SVM - Linear Kernel</td>\n",
       "      <td id=\"T_4e20c_row1_col1\" class=\"data row1 col1\" >0.7996</td>\n",
       "      <td id=\"T_4e20c_row1_col2\" class=\"data row1 col2\" >0.0000</td>\n",
       "      <td id=\"T_4e20c_row1_col3\" class=\"data row1 col3\" >0.0000</td>\n",
       "      <td id=\"T_4e20c_row1_col4\" class=\"data row1 col4\" >0.0000</td>\n",
       "      <td id=\"T_4e20c_row1_col5\" class=\"data row1 col5\" >0.0000</td>\n",
       "      <td id=\"T_4e20c_row1_col6\" class=\"data row1 col6\" >0.0000</td>\n",
       "      <td id=\"T_4e20c_row1_col7\" class=\"data row1 col7\" >0.0000</td>\n",
       "      <td id=\"T_4e20c_row1_col8\" class=\"data row1 col8\" >0.0340</td>\n",
       "    </tr>\n",
       "    <tr>\n",
       "      <th id=\"T_4e20c_level0_row2\" class=\"row_heading level0 row2\" >ridge</th>\n",
       "      <td id=\"T_4e20c_row2_col0\" class=\"data row2 col0\" >Ridge Classifier</td>\n",
       "      <td id=\"T_4e20c_row2_col1\" class=\"data row2 col1\" >0.7996</td>\n",
       "      <td id=\"T_4e20c_row2_col2\" class=\"data row2 col2\" >0.0000</td>\n",
       "      <td id=\"T_4e20c_row2_col3\" class=\"data row2 col3\" >0.0000</td>\n",
       "      <td id=\"T_4e20c_row2_col4\" class=\"data row2 col4\" >0.0000</td>\n",
       "      <td id=\"T_4e20c_row2_col5\" class=\"data row2 col5\" >0.0000</td>\n",
       "      <td id=\"T_4e20c_row2_col6\" class=\"data row2 col6\" >0.0000</td>\n",
       "      <td id=\"T_4e20c_row2_col7\" class=\"data row2 col7\" >0.0000</td>\n",
       "      <td id=\"T_4e20c_row2_col8\" class=\"data row2 col8\" >0.0210</td>\n",
       "    </tr>\n",
       "    <tr>\n",
       "      <th id=\"T_4e20c_level0_row3\" class=\"row_heading level0 row3\" >ada</th>\n",
       "      <td id=\"T_4e20c_row3_col0\" class=\"data row3 col0\" >Ada Boost Classifier</td>\n",
       "      <td id=\"T_4e20c_row3_col1\" class=\"data row3 col1\" >0.7996</td>\n",
       "      <td id=\"T_4e20c_row3_col2\" class=\"data row3 col2\" >0.5857</td>\n",
       "      <td id=\"T_4e20c_row3_col3\" class=\"data row3 col3\" >0.0000</td>\n",
       "      <td id=\"T_4e20c_row3_col4\" class=\"data row3 col4\" >0.0000</td>\n",
       "      <td id=\"T_4e20c_row3_col5\" class=\"data row3 col5\" >0.0000</td>\n",
       "      <td id=\"T_4e20c_row3_col6\" class=\"data row3 col6\" >0.0000</td>\n",
       "      <td id=\"T_4e20c_row3_col7\" class=\"data row3 col7\" >0.0000</td>\n",
       "      <td id=\"T_4e20c_row3_col8\" class=\"data row3 col8\" >0.1930</td>\n",
       "    </tr>\n",
       "    <tr>\n",
       "      <th id=\"T_4e20c_level0_row4\" class=\"row_heading level0 row4\" >gbc</th>\n",
       "      <td id=\"T_4e20c_row4_col0\" class=\"data row4 col0\" >Gradient Boosting Classifier</td>\n",
       "      <td id=\"T_4e20c_row4_col1\" class=\"data row4 col1\" >0.7996</td>\n",
       "      <td id=\"T_4e20c_row4_col2\" class=\"data row4 col2\" >0.5902</td>\n",
       "      <td id=\"T_4e20c_row4_col3\" class=\"data row4 col3\" >0.0002</td>\n",
       "      <td id=\"T_4e20c_row4_col4\" class=\"data row4 col4\" >0.1500</td>\n",
       "      <td id=\"T_4e20c_row4_col5\" class=\"data row4 col5\" >0.0003</td>\n",
       "      <td id=\"T_4e20c_row4_col6\" class=\"data row4 col6\" >0.0002</td>\n",
       "      <td id=\"T_4e20c_row4_col7\" class=\"data row4 col7\" >0.0029</td>\n",
       "      <td id=\"T_4e20c_row4_col8\" class=\"data row4 col8\" >0.3300</td>\n",
       "    </tr>\n",
       "    <tr>\n",
       "      <th id=\"T_4e20c_level0_row5\" class=\"row_heading level0 row5\" >lda</th>\n",
       "      <td id=\"T_4e20c_row5_col0\" class=\"data row5 col0\" >Linear Discriminant Analysis</td>\n",
       "      <td id=\"T_4e20c_row5_col1\" class=\"data row5 col1\" >0.7996</td>\n",
       "      <td id=\"T_4e20c_row5_col2\" class=\"data row5 col2\" >0.5857</td>\n",
       "      <td id=\"T_4e20c_row5_col3\" class=\"data row5 col3\" >0.0000</td>\n",
       "      <td id=\"T_4e20c_row5_col4\" class=\"data row5 col4\" >0.0000</td>\n",
       "      <td id=\"T_4e20c_row5_col5\" class=\"data row5 col5\" >0.0000</td>\n",
       "      <td id=\"T_4e20c_row5_col6\" class=\"data row5 col6\" >0.0000</td>\n",
       "      <td id=\"T_4e20c_row5_col7\" class=\"data row5 col7\" >0.0000</td>\n",
       "      <td id=\"T_4e20c_row5_col8\" class=\"data row5 col8\" >0.0290</td>\n",
       "    </tr>\n",
       "    <tr>\n",
       "      <th id=\"T_4e20c_level0_row6\" class=\"row_heading level0 row6\" >lightgbm</th>\n",
       "      <td id=\"T_4e20c_row6_col0\" class=\"data row6 col0\" >Light Gradient Boosting Machine</td>\n",
       "      <td id=\"T_4e20c_row6_col1\" class=\"data row6 col1\" >0.7996</td>\n",
       "      <td id=\"T_4e20c_row6_col2\" class=\"data row6 col2\" >0.5871</td>\n",
       "      <td id=\"T_4e20c_row6_col3\" class=\"data row6 col3\" >0.0001</td>\n",
       "      <td id=\"T_4e20c_row6_col4\" class=\"data row6 col4\" >0.2000</td>\n",
       "      <td id=\"T_4e20c_row6_col5\" class=\"data row6 col5\" >0.0002</td>\n",
       "      <td id=\"T_4e20c_row6_col6\" class=\"data row6 col6\" >0.0001</td>\n",
       "      <td id=\"T_4e20c_row6_col7\" class=\"data row6 col7\" >0.0028</td>\n",
       "      <td id=\"T_4e20c_row6_col8\" class=\"data row6 col8\" >0.1090</td>\n",
       "    </tr>\n",
       "    <tr>\n",
       "      <th id=\"T_4e20c_level0_row7\" class=\"row_heading level0 row7\" >dummy</th>\n",
       "      <td id=\"T_4e20c_row7_col0\" class=\"data row7 col0\" >Dummy Classifier</td>\n",
       "      <td id=\"T_4e20c_row7_col1\" class=\"data row7 col1\" >0.7996</td>\n",
       "      <td id=\"T_4e20c_row7_col2\" class=\"data row7 col2\" >0.5000</td>\n",
       "      <td id=\"T_4e20c_row7_col3\" class=\"data row7 col3\" >0.0000</td>\n",
       "      <td id=\"T_4e20c_row7_col4\" class=\"data row7 col4\" >0.0000</td>\n",
       "      <td id=\"T_4e20c_row7_col5\" class=\"data row7 col5\" >0.0000</td>\n",
       "      <td id=\"T_4e20c_row7_col6\" class=\"data row7 col6\" >0.0000</td>\n",
       "      <td id=\"T_4e20c_row7_col7\" class=\"data row7 col7\" >0.0000</td>\n",
       "      <td id=\"T_4e20c_row7_col8\" class=\"data row7 col8\" >0.0190</td>\n",
       "    </tr>\n",
       "    <tr>\n",
       "      <th id=\"T_4e20c_level0_row8\" class=\"row_heading level0 row8\" >dt</th>\n",
       "      <td id=\"T_4e20c_row8_col0\" class=\"data row8 col0\" >Decision Tree Classifier</td>\n",
       "      <td id=\"T_4e20c_row8_col1\" class=\"data row8 col1\" >0.7994</td>\n",
       "      <td id=\"T_4e20c_row8_col2\" class=\"data row8 col2\" >0.5833</td>\n",
       "      <td id=\"T_4e20c_row8_col3\" class=\"data row8 col3\" >0.0007</td>\n",
       "      <td id=\"T_4e20c_row8_col4\" class=\"data row8 col4\" >0.2740</td>\n",
       "      <td id=\"T_4e20c_row8_col5\" class=\"data row8 col5\" >0.0015</td>\n",
       "      <td id=\"T_4e20c_row8_col6\" class=\"data row8 col6\" >0.0004</td>\n",
       "      <td id=\"T_4e20c_row8_col7\" class=\"data row8 col7\" >0.0037</td>\n",
       "      <td id=\"T_4e20c_row8_col8\" class=\"data row8 col8\" >0.0260</td>\n",
       "    </tr>\n",
       "    <tr>\n",
       "      <th id=\"T_4e20c_level0_row9\" class=\"row_heading level0 row9\" >et</th>\n",
       "      <td id=\"T_4e20c_row9_col0\" class=\"data row9 col0\" >Extra Trees Classifier</td>\n",
       "      <td id=\"T_4e20c_row9_col1\" class=\"data row9 col1\" >0.7994</td>\n",
       "      <td id=\"T_4e20c_row9_col2\" class=\"data row9 col2\" >0.5834</td>\n",
       "      <td id=\"T_4e20c_row9_col3\" class=\"data row9 col3\" >0.0010</td>\n",
       "      <td id=\"T_4e20c_row9_col4\" class=\"data row9 col4\" >0.3474</td>\n",
       "      <td id=\"T_4e20c_row9_col5\" class=\"data row9 col5\" >0.0021</td>\n",
       "      <td id=\"T_4e20c_row9_col6\" class=\"data row9 col6\" >0.0008</td>\n",
       "      <td id=\"T_4e20c_row9_col7\" class=\"data row9 col7\" >0.0080</td>\n",
       "      <td id=\"T_4e20c_row9_col8\" class=\"data row9 col8\" >0.2670</td>\n",
       "    </tr>\n",
       "    <tr>\n",
       "      <th id=\"T_4e20c_level0_row10\" class=\"row_heading level0 row10\" >rf</th>\n",
       "      <td id=\"T_4e20c_row10_col0\" class=\"data row10 col0\" >Random Forest Classifier</td>\n",
       "      <td id=\"T_4e20c_row10_col1\" class=\"data row10 col1\" >0.7991</td>\n",
       "      <td id=\"T_4e20c_row10_col2\" class=\"data row10 col2\" >0.5835</td>\n",
       "      <td id=\"T_4e20c_row10_col3\" class=\"data row10 col3\" >0.0013</td>\n",
       "      <td id=\"T_4e20c_row10_col4\" class=\"data row10 col4\" >0.2634</td>\n",
       "      <td id=\"T_4e20c_row10_col5\" class=\"data row10 col5\" >0.0026</td>\n",
       "      <td id=\"T_4e20c_row10_col6\" class=\"data row10 col6\" >0.0006</td>\n",
       "      <td id=\"T_4e20c_row10_col7\" class=\"data row10 col7\" >0.0046</td>\n",
       "      <td id=\"T_4e20c_row10_col8\" class=\"data row10 col8\" >0.2600</td>\n",
       "    </tr>\n",
       "    <tr>\n",
       "      <th id=\"T_4e20c_level0_row11\" class=\"row_heading level0 row11\" >xgboost</th>\n",
       "      <td id=\"T_4e20c_row11_col0\" class=\"data row11 col0\" >Extreme Gradient Boosting</td>\n",
       "      <td id=\"T_4e20c_row11_col1\" class=\"data row11 col1\" >0.7991</td>\n",
       "      <td id=\"T_4e20c_row11_col2\" class=\"data row11 col2\" >0.5844</td>\n",
       "      <td id=\"T_4e20c_row11_col3\" class=\"data row11 col3\" >0.0007</td>\n",
       "      <td id=\"T_4e20c_row11_col4\" class=\"data row11 col4\" >0.1692</td>\n",
       "      <td id=\"T_4e20c_row11_col5\" class=\"data row11 col5\" >0.0014</td>\n",
       "      <td id=\"T_4e20c_row11_col6\" class=\"data row11 col6\" >-0.0002</td>\n",
       "      <td id=\"T_4e20c_row11_col7\" class=\"data row11 col7\" >-0.0017</td>\n",
       "      <td id=\"T_4e20c_row11_col8\" class=\"data row11 col8\" >0.7430</td>\n",
       "    </tr>\n",
       "    <tr>\n",
       "      <th id=\"T_4e20c_level0_row12\" class=\"row_heading level0 row12\" >knn</th>\n",
       "      <td id=\"T_4e20c_row12_col0\" class=\"data row12 col0\" >K Neighbors Classifier</td>\n",
       "      <td id=\"T_4e20c_row12_col1\" class=\"data row12 col1\" >0.7673</td>\n",
       "      <td id=\"T_4e20c_row12_col2\" class=\"data row12 col2\" >0.5208</td>\n",
       "      <td id=\"T_4e20c_row12_col3\" class=\"data row12 col3\" >0.0675</td>\n",
       "      <td id=\"T_4e20c_row12_col4\" class=\"data row12 col4\" >0.2370</td>\n",
       "      <td id=\"T_4e20c_row12_col5\" class=\"data row12 col5\" >0.1009</td>\n",
       "      <td id=\"T_4e20c_row12_col6\" class=\"data row12 col6\" >0.0140</td>\n",
       "      <td id=\"T_4e20c_row12_col7\" class=\"data row12 col7\" >0.0193</td>\n",
       "      <td id=\"T_4e20c_row12_col8\" class=\"data row12 col8\" >1.0910</td>\n",
       "    </tr>\n",
       "    <tr>\n",
       "      <th id=\"T_4e20c_level0_row13\" class=\"row_heading level0 row13\" >nb</th>\n",
       "      <td id=\"T_4e20c_row13_col0\" class=\"data row13 col0\" >Naive Bayes</td>\n",
       "      <td id=\"T_4e20c_row13_col1\" class=\"data row13 col1\" >0.7567</td>\n",
       "      <td id=\"T_4e20c_row13_col2\" class=\"data row13 col2\" >0.5719</td>\n",
       "      <td id=\"T_4e20c_row13_col3\" class=\"data row13 col3\" >0.1232</td>\n",
       "      <td id=\"T_4e20c_row13_col4\" class=\"data row13 col4\" >0.2678</td>\n",
       "      <td id=\"T_4e20c_row13_col5\" class=\"data row13 col5\" >0.1687</td>\n",
       "      <td id=\"T_4e20c_row13_col6\" class=\"data row13 col6\" >0.0485</td>\n",
       "      <td id=\"T_4e20c_row13_col7\" class=\"data row13 col7\" >0.0536</td>\n",
       "      <td id=\"T_4e20c_row13_col8\" class=\"data row13 col8\" >0.0220</td>\n",
       "    </tr>\n",
       "    <tr>\n",
       "      <th id=\"T_4e20c_level0_row14\" class=\"row_heading level0 row14\" >qda</th>\n",
       "      <td id=\"T_4e20c_row14_col0\" class=\"data row14 col0\" >Quadratic Discriminant Analysis</td>\n",
       "      <td id=\"T_4e20c_row14_col1\" class=\"data row14 col1\" >0.6254</td>\n",
       "      <td id=\"T_4e20c_row14_col2\" class=\"data row14 col2\" >0.5510</td>\n",
       "      <td id=\"T_4e20c_row14_col3\" class=\"data row14 col3\" >0.3210</td>\n",
       "      <td id=\"T_4e20c_row14_col4\" class=\"data row14 col4\" >0.2400</td>\n",
       "      <td id=\"T_4e20c_row14_col5\" class=\"data row14 col5\" >0.2186</td>\n",
       "      <td id=\"T_4e20c_row14_col6\" class=\"data row14 col6\" >0.0271</td>\n",
       "      <td id=\"T_4e20c_row14_col7\" class=\"data row14 col7\" >0.0295</td>\n",
       "      <td id=\"T_4e20c_row14_col8\" class=\"data row14 col8\" >0.0230</td>\n",
       "    </tr>\n",
       "  </tbody>\n",
       "</table>\n"
      ],
      "text/plain": [
       "<pandas.io.formats.style.Styler at 0x7fdf0e3ed8d0>"
      ]
     },
     "metadata": {},
     "output_type": "display_data"
    },
    {
     "data": {
      "text/plain": [
       "LogisticRegression(C=1.0, class_weight=None, dual=False, fit_intercept=True,\n",
       "                   intercept_scaling=1, l1_ratio=None, max_iter=1000,\n",
       "                   multi_class='auto', n_jobs=None, penalty='l2',\n",
       "                   random_state=2611, solver='lbfgs', tol=0.0001, verbose=0,\n",
       "                   warm_start=False)"
      ]
     },
     "execution_count": 96,
     "metadata": {},
     "output_type": "execute_result"
    }
   ],
   "source": [
    "classification.compare_models()"
   ]
  },
  {
   "cell_type": "code",
   "execution_count": null,
   "metadata": {},
   "outputs": [],
   "source": [
    "lr = classification.create_model('lr')"
   ]
  },
  {
   "cell_type": "code",
   "execution_count": 39,
   "metadata": {},
   "outputs": [],
   "source": [
    "classification.evaluate_model(lr)"
   ]
  },
  {
   "cell_type": "code",
   "execution_count": 35,
   "metadata": {},
   "outputs": [
    {
     "name": "stdout",
     "output_type": "stream",
     "text": [
      "Transformation Pipeline and Model Successfully Saved\n"
     ]
    },
    {
     "data": {
      "text/plain": [
       "(Pipeline(memory=None,\n",
       "          steps=[('dtypes',\n",
       "                  DataTypes_Auto_infer(categorical_features=[],\n",
       "                                       display_types=True, features_todrop=[],\n",
       "                                       id_columns=[],\n",
       "                                       ml_usecase='classification',\n",
       "                                       numerical_features=[], target='TARGET',\n",
       "                                       time_features=[])),\n",
       "                 ('imputer',\n",
       "                  Simple_Imputer(categorical_strategy='not_available',\n",
       "                                 fill_value_categorical=None,\n",
       "                                 fill_value_numerical=None,\n",
       "                                 numeric_strat...\n",
       "                 ('feature_select', 'passthrough'), ('fix_multi', 'passthrough'),\n",
       "                 ('dfs', 'passthrough'), ('pca', 'passthrough'),\n",
       "                 ['trained_model',\n",
       "                  LogisticRegression(C=1.0, class_weight=None, dual=False,\n",
       "                                     fit_intercept=True, intercept_scaling=1,\n",
       "                                     l1_ratio=None, max_iter=1000,\n",
       "                                     multi_class='auto', n_jobs=None,\n",
       "                                     penalty='l2', random_state=4587,\n",
       "                                     solver='lbfgs', tol=0.0001, verbose=0,\n",
       "                                     warm_start=False)]],\n",
       "          verbose=False),\n",
       " 'lr_model.pkl')"
      ]
     },
     "execution_count": 35,
     "metadata": {},
     "output_type": "execute_result"
    }
   ],
   "source": [
    "classification.save_model(lr, 'lr_model')"
   ]
  },
  {
   "cell_type": "code",
   "execution_count": null,
   "metadata": {},
   "outputs": [],
   "source": []
  },
  {
   "cell_type": "code",
   "execution_count": 42,
   "metadata": {},
   "outputs": [
    {
     "data": {
      "text/html": [
       "<div>\n",
       "<style scoped>\n",
       "    .dataframe tbody tr th:only-of-type {\n",
       "        vertical-align: middle;\n",
       "    }\n",
       "\n",
       "    .dataframe tbody tr th {\n",
       "        vertical-align: top;\n",
       "    }\n",
       "\n",
       "    .dataframe thead th {\n",
       "        text-align: right;\n",
       "    }\n",
       "</style>\n",
       "<table border=\"1\" class=\"dataframe\">\n",
       "  <thead>\n",
       "    <tr style=\"text-align: right;\">\n",
       "      <th></th>\n",
       "      <th>CODE_GENDER</th>\n",
       "      <th>CNT_CHILDREN</th>\n",
       "      <th>FLAG_OWN_CAR</th>\n",
       "      <th>FLAG_OWN_REALTY</th>\n",
       "      <th>class_amt_tot</th>\n",
       "      <th>class_amt_credit</th>\n",
       "      <th>class_amt_ANNUITY</th>\n",
       "      <th>class_age</th>\n",
       "    </tr>\n",
       "  </thead>\n",
       "  <tbody>\n",
       "    <tr>\n",
       "      <th>0</th>\n",
       "      <td>M</td>\n",
       "      <td>0</td>\n",
       "      <td>N</td>\n",
       "      <td>Y</td>\n",
       "      <td>meduim</td>\n",
       "      <td>low</td>\n",
       "      <td>low</td>\n",
       "      <td>jeune</td>\n",
       "    </tr>\n",
       "  </tbody>\n",
       "</table>\n",
       "</div>"
      ],
      "text/plain": [
       "  CODE_GENDER  CNT_CHILDREN FLAG_OWN_CAR FLAG_OWN_REALTY class_amt_tot  \\\n",
       "0           M             0            N               Y        meduim   \n",
       "\n",
       "  class_amt_credit class_amt_ANNUITY class_age  \n",
       "0              low               low     jeune  "
      ]
     },
     "execution_count": 42,
     "metadata": {},
     "output_type": "execute_result"
    }
   ],
   "source": [
    "df_for_model.drop(\"TARGET\", 1).head(1)"
   ]
  },
  {
   "cell_type": "code",
   "execution_count": null,
   "metadata": {},
   "outputs": [
    {
     "data": {
      "text/plain": [
       "array([0])"
      ]
     },
     "execution_count": 49,
     "metadata": {},
     "output_type": "execute_result"
    }
   ],
   "source": [
    "lr_model_saved.predict(df_for_model.drop(\"TARGET\", 1).head(1))"
   ]
  },
  {
   "cell_type": "code",
   "execution_count": 1,
   "metadata": {},
   "outputs": [
    {
     "name": "stderr",
     "output_type": "stream",
     "text": [
      "C:\\Users\\Zakaria\\anaconda3\\lib\\site-packages\\sklearn\\base.py:329: UserWarning: Trying to unpickle estimator SimpleImputer from version 0.23.2 when using version 1.0.2. This might lead to breaking code or invalid results. Use at your own risk. For more info please refer to:\n",
      "https://scikit-learn.org/stable/modules/model_persistence.html#security-maintainability-limitations\n",
      "  warnings.warn(\n",
      "C:\\Users\\Zakaria\\anaconda3\\lib\\site-packages\\sklearn\\base.py:329: UserWarning: Trying to unpickle estimator OneHotEncoder from version 0.23.2 when using version 1.0.2. This might lead to breaking code or invalid results. Use at your own risk. For more info please refer to:\n",
      "https://scikit-learn.org/stable/modules/model_persistence.html#security-maintainability-limitations\n",
      "  warnings.warn(\n",
      "C:\\Users\\Zakaria\\anaconda3\\lib\\site-packages\\sklearn\\base.py:329: UserWarning: Trying to unpickle estimator LogisticRegression from version 0.23.2 when using version 1.0.2. This might lead to breaking code or invalid results. Use at your own risk. For more info please refer to:\n",
      "https://scikit-learn.org/stable/modules/model_persistence.html#security-maintainability-limitations\n",
      "  warnings.warn(\n",
      "C:\\Users\\Zakaria\\anaconda3\\lib\\site-packages\\sklearn\\base.py:329: UserWarning: Trying to unpickle estimator Pipeline from version 0.23.2 when using version 1.0.2. This might lead to breaking code or invalid results. Use at your own risk. For more info please refer to:\n",
      "https://scikit-learn.org/stable/modules/model_persistence.html#security-maintainability-limitations\n",
      "  warnings.warn(\n"
     ]
    }
   ],
   "source": [
    "import numpy as np\n",
    "import joblib\n",
    "lr_model_saved = joblib.load(\"lr_model.pkl\")"
   ]
  },
  {
   "cell_type": "code",
   "execution_count": 9,
   "metadata": {},
   "outputs": [
    {
     "data": {
      "text/plain": [
       "{'CODE_GENDER': 'M',\n",
       " 'CNT_CHILDREN': 0,\n",
       " 'FLAG_OWN_CAR': 'N',\n",
       " 'FLAG_OWN_REALTY': 'Y',\n",
       " 'class_amt_tot': 'meduim',\n",
       " 'class_amt_credit': 'low',\n",
       " 'class_amt_ANNUITY': 'low',\n",
       " 'class_age': 'jeune'}"
      ]
     },
     "execution_count": 9,
     "metadata": {},
     "output_type": "execute_result"
    }
   ],
   "source": [
    "d = {}\n",
    "val = ['M',0,'N','Y','meduim','low','low','jeune']\n",
    "i = 0\n",
    "for col in ['CODE_GENDER', 'CNT_CHILDREN', 'FLAG_OWN_CAR', 'FLAG_OWN_REALTY',\n",
    "'class_amt_tot', 'class_amt_credit', 'class_amt_ANNUITY', 'class_age'] :\n",
    "    d[col] = val[i]\n",
    "    i +=1\n",
    "\n",
    "d"
   ]
  },
  {
   "cell_type": "code",
   "execution_count": 10,
   "metadata": {},
   "outputs": [
    {
     "data": {
      "text/html": [
       "<div>\n",
       "<style scoped>\n",
       "    .dataframe tbody tr th:only-of-type {\n",
       "        vertical-align: middle;\n",
       "    }\n",
       "\n",
       "    .dataframe tbody tr th {\n",
       "        vertical-align: top;\n",
       "    }\n",
       "\n",
       "    .dataframe thead th {\n",
       "        text-align: right;\n",
       "    }\n",
       "</style>\n",
       "<table border=\"1\" class=\"dataframe\">\n",
       "  <thead>\n",
       "    <tr style=\"text-align: right;\">\n",
       "      <th></th>\n",
       "      <th>CODE_GENDER</th>\n",
       "      <th>CNT_CHILDREN</th>\n",
       "      <th>FLAG_OWN_CAR</th>\n",
       "      <th>FLAG_OWN_REALTY</th>\n",
       "      <th>class_amt_tot</th>\n",
       "      <th>class_amt_credit</th>\n",
       "      <th>class_amt_ANNUITY</th>\n",
       "      <th>class_age</th>\n",
       "    </tr>\n",
       "  </thead>\n",
       "  <tbody>\n",
       "    <tr>\n",
       "      <th>0</th>\n",
       "      <td>M</td>\n",
       "      <td>0</td>\n",
       "      <td>N</td>\n",
       "      <td>Y</td>\n",
       "      <td>meduim</td>\n",
       "      <td>low</td>\n",
       "      <td>low</td>\n",
       "      <td>jeune</td>\n",
       "    </tr>\n",
       "  </tbody>\n",
       "</table>\n",
       "</div>"
      ],
      "text/plain": [
       "  CODE_GENDER  CNT_CHILDREN FLAG_OWN_CAR FLAG_OWN_REALTY class_amt_tot  \\\n",
       "0           M             0            N               Y        meduim   \n",
       "\n",
       "  class_amt_credit class_amt_ANNUITY class_age  \n",
       "0              low               low     jeune  "
      ]
     },
     "execution_count": 10,
     "metadata": {},
     "output_type": "execute_result"
    }
   ],
   "source": [
    "import pandas as pd\n",
    "\n",
    "inputs = pd.DataFrame(d, index=[0])\n",
    "inputs"
   ]
  },
  {
   "cell_type": "code",
   "execution_count": 16,
   "metadata": {},
   "outputs": [
    {
     "data": {
      "text/plain": [
       "1"
      ]
     },
     "execution_count": 16,
     "metadata": {},
     "output_type": "execute_result"
    }
   ],
   "source": [
    "1 if inputs.CODE_GENDER.values == \"M\" else 0"
   ]
  },
  {
   "cell_type": "code",
   "execution_count": 8,
   "metadata": {},
   "outputs": [
    {
     "name": "stderr",
     "output_type": "stream",
     "text": [
      "C:\\Users\\Zakaria\\anaconda3\\lib\\site-packages\\sklearn\\base.py:443: UserWarning: X has feature names, but SimpleImputer was fitted without feature names\n",
      "  warnings.warn(\n",
      "C:\\Users\\Zakaria\\anaconda3\\lib\\site-packages\\sklearn\\base.py:443: UserWarning: X has feature names, but OneHotEncoder was fitted without feature names\n",
      "  warnings.warn(\n",
      "C:\\Users\\Zakaria\\anaconda3\\lib\\site-packages\\pycaret\\internal\\preprocess.py:1721: FutureWarning: The default value of regex will change from True to False in a future version.\n",
      "  data.columns = data.columns.str.replace(r\"[\\,\\}\\{\\]\\[\\:\\\"\\']\", \"\")\n",
      "C:\\Users\\Zakaria\\anaconda3\\lib\\site-packages\\sklearn\\base.py:443: UserWarning: X has feature names, but LogisticRegression was fitted without feature names\n",
      "  warnings.warn(\n"
     ]
    },
    {
     "data": {
      "text/plain": [
       "array([0], dtype=int64)"
      ]
     },
     "execution_count": 8,
     "metadata": {},
     "output_type": "execute_result"
    }
   ],
   "source": [
    "lr_model_saved.predict(inputs)"
   ]
  },
  {
   "cell_type": "code",
   "execution_count": null,
   "metadata": {},
   "outputs": [],
   "source": []
  },
  {
   "cell_type": "code",
   "execution_count": 21,
   "metadata": {},
   "outputs": [
    {
     "ename": "TypeError",
     "evalue": "write() argument must be str, not DataFrame",
     "output_type": "error",
     "traceback": [
      "\u001b[1;31m---------------------------------------------------------------------------\u001b[0m",
      "\u001b[1;31mTypeError\u001b[0m                                 Traceback (most recent call last)",
      "\u001b[1;32m<ipython-input-21-2ac1f6b8975d>\u001b[0m in \u001b[0;36m<module>\u001b[1;34m\u001b[0m\n\u001b[0;32m      1\u001b[0m \u001b[0mbd\u001b[0m \u001b[1;33m=\u001b[0m \u001b[0mopen\u001b[0m\u001b[1;33m(\u001b[0m\u001b[1;34m\"donnees_entrees_form.json\"\u001b[0m\u001b[1;33m,\u001b[0m \u001b[1;34m\"a\"\u001b[0m\u001b[1;33m)\u001b[0m\u001b[1;33m\u001b[0m\u001b[1;33m\u001b[0m\u001b[0m\n\u001b[1;32m----> 2\u001b[1;33m \u001b[0mbd\u001b[0m\u001b[1;33m.\u001b[0m\u001b[0mwrite\u001b[0m\u001b[1;33m(\u001b[0m\u001b[0minputs\u001b[0m\u001b[1;33m)\u001b[0m\u001b[1;33m\u001b[0m\u001b[1;33m\u001b[0m\u001b[0m\n\u001b[0m\u001b[0;32m      3\u001b[0m \u001b[0mbd\u001b[0m\u001b[1;33m.\u001b[0m\u001b[0mclose\u001b[0m\u001b[1;33m(\u001b[0m\u001b[1;33m)\u001b[0m\u001b[1;33m\u001b[0m\u001b[1;33m\u001b[0m\u001b[0m\n",
      "\u001b[1;31mTypeError\u001b[0m: write() argument must be str, not DataFrame"
     ]
    }
   ],
   "source": [
    "bd = open(\"donnees_entrees_form.json\", \"a\")\n",
    "bd.write(inputs)\n",
    "bd.close()"
   ]
  },
  {
   "cell_type": "code",
   "execution_count": 19,
   "metadata": {},
   "outputs": [
    {
     "ename": "ValueError",
     "evalue": "Expected object or value",
     "output_type": "error",
     "traceback": [
      "\u001b[1;31m---------------------------------------------------------------------------\u001b[0m",
      "\u001b[1;31mValueError\u001b[0m                                Traceback (most recent call last)",
      "\u001b[1;32m<ipython-input-19-a40968f9bcbd>\u001b[0m in \u001b[0;36m<module>\u001b[1;34m\u001b[0m\n\u001b[1;32m----> 1\u001b[1;33m \u001b[0mbd\u001b[0m \u001b[1;33m=\u001b[0m \u001b[0mpd\u001b[0m\u001b[1;33m.\u001b[0m\u001b[0mread_json\u001b[0m\u001b[1;33m(\u001b[0m\u001b[1;34m'donnees_entrees_form.json'\u001b[0m\u001b[1;33m)\u001b[0m\u001b[1;33m\u001b[0m\u001b[1;33m\u001b[0m\u001b[0m\n\u001b[0m\u001b[0;32m      2\u001b[0m \u001b[0mpd\u001b[0m\u001b[1;33m.\u001b[0m\u001b[0mconcat\u001b[0m\u001b[1;33m(\u001b[0m\u001b[1;33m[\u001b[0m\u001b[0mbd\u001b[0m\u001b[1;33m,\u001b[0m \u001b[0minputs\u001b[0m\u001b[1;33m]\u001b[0m\u001b[1;33m,\u001b[0m\u001b[1;36m0\u001b[0m\u001b[1;33m)\u001b[0m\u001b[1;33m.\u001b[0m\u001b[0mreset_index\u001b[0m\u001b[1;33m(\u001b[0m\u001b[0mdrop\u001b[0m\u001b[1;33m=\u001b[0m\u001b[1;32mTrue\u001b[0m\u001b[1;33m)\u001b[0m\u001b[1;33m.\u001b[0m\u001b[0mto_json\u001b[0m\u001b[1;33m(\u001b[0m\u001b[1;34m\"donnees_entrees_form.json\"\u001b[0m\u001b[1;33m)\u001b[0m\u001b[1;33m\u001b[0m\u001b[1;33m\u001b[0m\u001b[0m\n\u001b[0;32m      3\u001b[0m \u001b[1;33m\u001b[0m\u001b[0m\n\u001b[0;32m      4\u001b[0m \u001b[0minputs\u001b[0m\u001b[1;33m.\u001b[0m\u001b[0mto_csv\u001b[0m\u001b[1;33m(\u001b[0m\u001b[1;34m'donnees_entrees_formulaire.csv'\u001b[0m\u001b[1;33m)\u001b[0m\u001b[1;33m\u001b[0m\u001b[1;33m\u001b[0m\u001b[0m\n",
      "\u001b[1;32m~\\anaconda3\\lib\\site-packages\\pandas\\util\\_decorators.py\u001b[0m in \u001b[0;36mwrapper\u001b[1;34m(*args, **kwargs)\u001b[0m\n\u001b[0;32m    205\u001b[0m                 \u001b[1;32melse\u001b[0m\u001b[1;33m:\u001b[0m\u001b[1;33m\u001b[0m\u001b[1;33m\u001b[0m\u001b[0m\n\u001b[0;32m    206\u001b[0m                     \u001b[0mkwargs\u001b[0m\u001b[1;33m[\u001b[0m\u001b[0mnew_arg_name\u001b[0m\u001b[1;33m]\u001b[0m \u001b[1;33m=\u001b[0m \u001b[0mnew_arg_value\u001b[0m\u001b[1;33m\u001b[0m\u001b[1;33m\u001b[0m\u001b[0m\n\u001b[1;32m--> 207\u001b[1;33m             \u001b[1;32mreturn\u001b[0m \u001b[0mfunc\u001b[0m\u001b[1;33m(\u001b[0m\u001b[1;33m*\u001b[0m\u001b[0margs\u001b[0m\u001b[1;33m,\u001b[0m \u001b[1;33m**\u001b[0m\u001b[0mkwargs\u001b[0m\u001b[1;33m)\u001b[0m\u001b[1;33m\u001b[0m\u001b[1;33m\u001b[0m\u001b[0m\n\u001b[0m\u001b[0;32m    208\u001b[0m \u001b[1;33m\u001b[0m\u001b[0m\n\u001b[0;32m    209\u001b[0m         \u001b[1;32mreturn\u001b[0m \u001b[0mcast\u001b[0m\u001b[1;33m(\u001b[0m\u001b[0mF\u001b[0m\u001b[1;33m,\u001b[0m \u001b[0mwrapper\u001b[0m\u001b[1;33m)\u001b[0m\u001b[1;33m\u001b[0m\u001b[1;33m\u001b[0m\u001b[0m\n",
      "\u001b[1;32m~\\anaconda3\\lib\\site-packages\\pandas\\util\\_decorators.py\u001b[0m in \u001b[0;36mwrapper\u001b[1;34m(*args, **kwargs)\u001b[0m\n\u001b[0;32m    309\u001b[0m                     \u001b[0mstacklevel\u001b[0m\u001b[1;33m=\u001b[0m\u001b[0mstacklevel\u001b[0m\u001b[1;33m,\u001b[0m\u001b[1;33m\u001b[0m\u001b[1;33m\u001b[0m\u001b[0m\n\u001b[0;32m    310\u001b[0m                 )\n\u001b[1;32m--> 311\u001b[1;33m             \u001b[1;32mreturn\u001b[0m \u001b[0mfunc\u001b[0m\u001b[1;33m(\u001b[0m\u001b[1;33m*\u001b[0m\u001b[0margs\u001b[0m\u001b[1;33m,\u001b[0m \u001b[1;33m**\u001b[0m\u001b[0mkwargs\u001b[0m\u001b[1;33m)\u001b[0m\u001b[1;33m\u001b[0m\u001b[1;33m\u001b[0m\u001b[0m\n\u001b[0m\u001b[0;32m    312\u001b[0m \u001b[1;33m\u001b[0m\u001b[0m\n\u001b[0;32m    313\u001b[0m         \u001b[1;32mreturn\u001b[0m \u001b[0mwrapper\u001b[0m\u001b[1;33m\u001b[0m\u001b[1;33m\u001b[0m\u001b[0m\n",
      "\u001b[1;32m~\\anaconda3\\lib\\site-packages\\pandas\\io\\json\\_json.py\u001b[0m in \u001b[0;36mread_json\u001b[1;34m(path_or_buf, orient, typ, dtype, convert_axes, convert_dates, keep_default_dates, numpy, precise_float, date_unit, encoding, encoding_errors, lines, chunksize, compression, nrows, storage_options)\u001b[0m\n\u001b[0;32m    612\u001b[0m \u001b[1;33m\u001b[0m\u001b[0m\n\u001b[0;32m    613\u001b[0m     \u001b[1;32mwith\u001b[0m \u001b[0mjson_reader\u001b[0m\u001b[1;33m:\u001b[0m\u001b[1;33m\u001b[0m\u001b[1;33m\u001b[0m\u001b[0m\n\u001b[1;32m--> 614\u001b[1;33m         \u001b[1;32mreturn\u001b[0m \u001b[0mjson_reader\u001b[0m\u001b[1;33m.\u001b[0m\u001b[0mread\u001b[0m\u001b[1;33m(\u001b[0m\u001b[1;33m)\u001b[0m\u001b[1;33m\u001b[0m\u001b[1;33m\u001b[0m\u001b[0m\n\u001b[0m\u001b[0;32m    615\u001b[0m \u001b[1;33m\u001b[0m\u001b[0m\n\u001b[0;32m    616\u001b[0m \u001b[1;33m\u001b[0m\u001b[0m\n",
      "\u001b[1;32m~\\anaconda3\\lib\\site-packages\\pandas\\io\\json\\_json.py\u001b[0m in \u001b[0;36mread\u001b[1;34m(self)\u001b[0m\n\u001b[0;32m    746\u001b[0m                 \u001b[0mobj\u001b[0m \u001b[1;33m=\u001b[0m \u001b[0mself\u001b[0m\u001b[1;33m.\u001b[0m\u001b[0m_get_object_parser\u001b[0m\u001b[1;33m(\u001b[0m\u001b[0mself\u001b[0m\u001b[1;33m.\u001b[0m\u001b[0m_combine_lines\u001b[0m\u001b[1;33m(\u001b[0m\u001b[0mdata_lines\u001b[0m\u001b[1;33m)\u001b[0m\u001b[1;33m)\u001b[0m\u001b[1;33m\u001b[0m\u001b[1;33m\u001b[0m\u001b[0m\n\u001b[0;32m    747\u001b[0m         \u001b[1;32melse\u001b[0m\u001b[1;33m:\u001b[0m\u001b[1;33m\u001b[0m\u001b[1;33m\u001b[0m\u001b[0m\n\u001b[1;32m--> 748\u001b[1;33m             \u001b[0mobj\u001b[0m \u001b[1;33m=\u001b[0m \u001b[0mself\u001b[0m\u001b[1;33m.\u001b[0m\u001b[0m_get_object_parser\u001b[0m\u001b[1;33m(\u001b[0m\u001b[0mself\u001b[0m\u001b[1;33m.\u001b[0m\u001b[0mdata\u001b[0m\u001b[1;33m)\u001b[0m\u001b[1;33m\u001b[0m\u001b[1;33m\u001b[0m\u001b[0m\n\u001b[0m\u001b[0;32m    749\u001b[0m         \u001b[0mself\u001b[0m\u001b[1;33m.\u001b[0m\u001b[0mclose\u001b[0m\u001b[1;33m(\u001b[0m\u001b[1;33m)\u001b[0m\u001b[1;33m\u001b[0m\u001b[1;33m\u001b[0m\u001b[0m\n\u001b[0;32m    750\u001b[0m         \u001b[1;32mreturn\u001b[0m \u001b[0mobj\u001b[0m\u001b[1;33m\u001b[0m\u001b[1;33m\u001b[0m\u001b[0m\n",
      "\u001b[1;32m~\\anaconda3\\lib\\site-packages\\pandas\\io\\json\\_json.py\u001b[0m in \u001b[0;36m_get_object_parser\u001b[1;34m(self, json)\u001b[0m\n\u001b[0;32m    768\u001b[0m         \u001b[0mobj\u001b[0m \u001b[1;33m=\u001b[0m \u001b[1;32mNone\u001b[0m\u001b[1;33m\u001b[0m\u001b[1;33m\u001b[0m\u001b[0m\n\u001b[0;32m    769\u001b[0m         \u001b[1;32mif\u001b[0m \u001b[0mtyp\u001b[0m \u001b[1;33m==\u001b[0m \u001b[1;34m\"frame\"\u001b[0m\u001b[1;33m:\u001b[0m\u001b[1;33m\u001b[0m\u001b[1;33m\u001b[0m\u001b[0m\n\u001b[1;32m--> 770\u001b[1;33m             \u001b[0mobj\u001b[0m \u001b[1;33m=\u001b[0m \u001b[0mFrameParser\u001b[0m\u001b[1;33m(\u001b[0m\u001b[0mjson\u001b[0m\u001b[1;33m,\u001b[0m \u001b[1;33m**\u001b[0m\u001b[0mkwargs\u001b[0m\u001b[1;33m)\u001b[0m\u001b[1;33m.\u001b[0m\u001b[0mparse\u001b[0m\u001b[1;33m(\u001b[0m\u001b[1;33m)\u001b[0m\u001b[1;33m\u001b[0m\u001b[1;33m\u001b[0m\u001b[0m\n\u001b[0m\u001b[0;32m    771\u001b[0m \u001b[1;33m\u001b[0m\u001b[0m\n\u001b[0;32m    772\u001b[0m         \u001b[1;32mif\u001b[0m \u001b[0mtyp\u001b[0m \u001b[1;33m==\u001b[0m \u001b[1;34m\"series\"\u001b[0m \u001b[1;32mor\u001b[0m \u001b[0mobj\u001b[0m \u001b[1;32mis\u001b[0m \u001b[1;32mNone\u001b[0m\u001b[1;33m:\u001b[0m\u001b[1;33m\u001b[0m\u001b[1;33m\u001b[0m\u001b[0m\n",
      "\u001b[1;32m~\\anaconda3\\lib\\site-packages\\pandas\\io\\json\\_json.py\u001b[0m in \u001b[0;36mparse\u001b[1;34m(self)\u001b[0m\n\u001b[0;32m    883\u001b[0m \u001b[1;33m\u001b[0m\u001b[0m\n\u001b[0;32m    884\u001b[0m         \u001b[1;32melse\u001b[0m\u001b[1;33m:\u001b[0m\u001b[1;33m\u001b[0m\u001b[1;33m\u001b[0m\u001b[0m\n\u001b[1;32m--> 885\u001b[1;33m             \u001b[0mself\u001b[0m\u001b[1;33m.\u001b[0m\u001b[0m_parse_no_numpy\u001b[0m\u001b[1;33m(\u001b[0m\u001b[1;33m)\u001b[0m\u001b[1;33m\u001b[0m\u001b[1;33m\u001b[0m\u001b[0m\n\u001b[0m\u001b[0;32m    886\u001b[0m \u001b[1;33m\u001b[0m\u001b[0m\n\u001b[0;32m    887\u001b[0m         \u001b[1;32mif\u001b[0m \u001b[0mself\u001b[0m\u001b[1;33m.\u001b[0m\u001b[0mobj\u001b[0m \u001b[1;32mis\u001b[0m \u001b[1;32mNone\u001b[0m\u001b[1;33m:\u001b[0m\u001b[1;33m\u001b[0m\u001b[1;33m\u001b[0m\u001b[0m\n",
      "\u001b[1;32m~\\anaconda3\\lib\\site-packages\\pandas\\io\\json\\_json.py\u001b[0m in \u001b[0;36m_parse_no_numpy\u001b[1;34m(self)\u001b[0m\n\u001b[0;32m   1138\u001b[0m         \u001b[1;32mif\u001b[0m \u001b[0morient\u001b[0m \u001b[1;33m==\u001b[0m \u001b[1;34m\"columns\"\u001b[0m\u001b[1;33m:\u001b[0m\u001b[1;33m\u001b[0m\u001b[1;33m\u001b[0m\u001b[0m\n\u001b[0;32m   1139\u001b[0m             self.obj = DataFrame(\n\u001b[1;32m-> 1140\u001b[1;33m                 \u001b[0mloads\u001b[0m\u001b[1;33m(\u001b[0m\u001b[0mjson\u001b[0m\u001b[1;33m,\u001b[0m \u001b[0mprecise_float\u001b[0m\u001b[1;33m=\u001b[0m\u001b[0mself\u001b[0m\u001b[1;33m.\u001b[0m\u001b[0mprecise_float\u001b[0m\u001b[1;33m)\u001b[0m\u001b[1;33m,\u001b[0m \u001b[0mdtype\u001b[0m\u001b[1;33m=\u001b[0m\u001b[1;32mNone\u001b[0m\u001b[1;33m\u001b[0m\u001b[1;33m\u001b[0m\u001b[0m\n\u001b[0m\u001b[0;32m   1141\u001b[0m             )\n\u001b[0;32m   1142\u001b[0m         \u001b[1;32melif\u001b[0m \u001b[0morient\u001b[0m \u001b[1;33m==\u001b[0m \u001b[1;34m\"split\"\u001b[0m\u001b[1;33m:\u001b[0m\u001b[1;33m\u001b[0m\u001b[1;33m\u001b[0m\u001b[0m\n",
      "\u001b[1;31mValueError\u001b[0m: Expected object or value"
     ]
    }
   ],
   "source": [
    "bd = pd.read_json('donnees_entrees_form.json')\n",
    "pd.concat([bd, inputs],0).reset_index(drop=True).to_json(\"donnees_entrees_form.json\")\n",
    "\n",
    "inputs.to_csv('donnees_entrees_formulaire.csv')"
   ]
  },
  {
   "cell_type": "code",
   "execution_count": null,
   "metadata": {},
   "outputs": [],
   "source": []
  }
 ],
 "metadata": {
  "environment": {
   "kernel": "python3",
   "name": "common-cpu.m94",
   "type": "gcloud",
   "uri": "gcr.io/deeplearning-platform-release/base-cpu:m94"
  },
  "kernelspec": {
   "display_name": "Python 3",
   "language": "python",
   "name": "python3"
  },
  "language_info": {
   "codemirror_mode": {
    "name": "ipython",
    "version": 3
   },
   "file_extension": ".py",
   "mimetype": "text/x-python",
   "name": "python",
   "nbconvert_exporter": "python",
   "pygments_lexer": "ipython3",
   "version": "3.8.5"
  }
 },
 "nbformat": 4,
 "nbformat_minor": 5
}
